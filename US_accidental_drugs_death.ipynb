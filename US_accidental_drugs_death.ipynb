{
  "nbformat": 4,
  "nbformat_minor": 0,
  "metadata": {
    "colab": {
      "name": "US-accidental-drugs-death.ipynb",
      "provenance": [],
      "collapsed_sections": [],
      "authorship_tag": "ABX9TyOV6IfoM6Up9LYgVhgf4YWk",
      "include_colab_link": true
    },
    "kernelspec": {
      "name": "python3",
      "display_name": "Python 3"
    }
  },
  "cells": [
    {
      "cell_type": "markdown",
      "metadata": {
        "id": "view-in-github",
        "colab_type": "text"
      },
      "source": [
        "<a href=\"https://colab.research.google.com/github/MikeDeecode/US-accidental--drugs-death-analysis/blob/master/US_accidental_drugs_death.ipynb\" target=\"_parent\"><img src=\"https://colab.research.google.com/assets/colab-badge.svg\" alt=\"Open In Colab\"/></a>"
      ]
    },
    {
      "cell_type": "markdown",
      "metadata": {
        "id": "pXigUeGvC7xf",
        "colab_type": "text"
      },
      "source": [
        "The data set used in this project was obtained from https://www.data.gov/"
      ]
    },
    {
      "cell_type": "markdown",
      "metadata": {
        "id": "2R34gcE4DUKD",
        "colab_type": "text"
      },
      "source": [
        "## **THE DATASET CONTAINS THE DATA OF ACCIDENTAL DRUGS RELATED DEATH IN THE US FROM 2012 TO 2016**\n",
        "\n",
        "---\n",
        "\n"
      ]
    },
    {
      "cell_type": "markdown",
      "metadata": {
        "id": "sZ4l9hCC_0q9",
        "colab_type": "text"
      },
      "source": [
        "This project aims aat \n",
        "\n",
        "* Determine how each of the characteristics affected the death toll\n",
        "* Visualising the analysed data\n",
        "* Insigts and observations from the data\n",
        "\n",
        "Stay tuned!!!"
      ]
    },
    {
      "cell_type": "markdown",
      "metadata": {
        "id": "JRUCtH3jDkrL",
        "colab_type": "text"
      },
      "source": [
        "# **EXPLORATORY ANALYSIS**"
      ]
    },
    {
      "cell_type": "code",
      "metadata": {
        "id": "Pt07WfDTWBJ3",
        "colab_type": "code",
        "colab": {}
      },
      "source": [
        "import numpy as np \n",
        "import pandas as pd\n",
        "import matplotlib.pyplot as plt"
      ],
      "execution_count": 0,
      "outputs": []
    },
    {
      "cell_type": "code",
      "metadata": {
        "id": "HHeKf9NrWGJX",
        "colab_type": "code",
        "outputId": "b87c6a67-12f6-416e-e52a-980da972568c",
        "colab": {
          "base_uri": "https://localhost:8080/",
          "height": 35
        }
      },
      "source": [
        "drugs_death = pd.read_csv(\"/content/Accidental_Drug_Related_Deaths_2012-2018.csv\", index_col = 0)\n",
        "print (\"Success\")"
      ],
      "execution_count": 23,
      "outputs": [
        {
          "output_type": "stream",
          "text": [
            "Success\n"
          ],
          "name": "stdout"
        }
      ]
    },
    {
      "cell_type": "code",
      "metadata": {
        "id": "gtFhVxP3EY3f",
        "colab_type": "code",
        "outputId": "2a325a2d-5e72-430e-b7d1-1dc7e7fb2ba2",
        "colab": {
          "base_uri": "https://localhost:8080/",
          "height": 35
        }
      },
      "source": [
        "drugs_death.shape"
      ],
      "execution_count": 24,
      "outputs": [
        {
          "output_type": "execute_result",
          "data": {
            "text/plain": [
              "(5105, 40)"
            ]
          },
          "metadata": {
            "tags": []
          },
          "execution_count": 24
        }
      ]
    },
    {
      "cell_type": "markdown",
      "metadata": {
        "id": "uyDo-na6Ejwg",
        "colab_type": "text"
      },
      "source": [
        "* There are 5105 rows and 40 columns in the dataset "
      ]
    },
    {
      "cell_type": "markdown",
      "metadata": {
        "id": "rjY8uBfv-qVf",
        "colab_type": "text"
      },
      "source": [
        "**DESCRIPTION OF THE DATASET**"
      ]
    },
    {
      "cell_type": "markdown",
      "metadata": {
        "id": "Zv1vcKwp-vIe",
        "colab_type": "text"
      },
      "source": [
        "There are 5105 rowa and 40 columns in the dataset.  Below are the descriptions of the columns \n",
        "\n",
        "* **ID** - citizen's identification number \n",
        "* **Date** - The date authorities knew about the death\n",
        "* **Dateatype** - If the date the individual died was the reported date or the day of death\n",
        "* **Age** - Age of the individual\n",
        "* **Sex** - Gender of the individual\n",
        "* **Race** - The race of the individual\n",
        "* **ResidenceCity** - The city the individual lived in \n",
        "* **ResidenceCounty** - Individual's county\n",
        "* **ResidenceState** - Individual's state \n",
        "* **DeathCity** - city where the individual died \n",
        "* **DeathCounty** - County where the individual died \n",
        "* **Location** - specific place where the individual died\n",
        "* **LocationifOther**\n",
        "* **DescriptionofInjury** - Description of injury that killed the individual\n",
        "* **InjuryPlace** - where the injury was sustained\n",
        "* **InjuryCity** - city where the injury was sustained \n",
        "* **InjuryCounty** - County where the injury was sustained \n",
        "* **InjuryState** - State where the injuty was sustained \n",
        "* **COD** - Cause of death\n",
        "* **OtherSignifican**\n",
        "* **MannerofDeath** - how the individual died \n",
        "* **DeathCityGeo** - Geogrgraphical location of where the individual died \n",
        "* **ResidenceCityGeo** - geographical location of individual's residence city \n",
        "* **InjuryCityGeo** - geographical location of where the individual sustained injury\n",
        "\n",
        "Other columns in the dataset are the substances presnt in the blood or urine of the individuals after the autopsy report"
      ]
    },
    {
      "cell_type": "code",
      "metadata": {
        "id": "yM1tZgHsEVTr",
        "colab_type": "code",
        "outputId": "618ad495-a2b1-4607-afe5-16ca0e8484a9",
        "colab": {
          "base_uri": "https://localhost:8080/",
          "height": 414
        }
      },
      "source": [
        "drugs_death.head()"
      ],
      "execution_count": 25,
      "outputs": [
        {
          "output_type": "execute_result",
          "data": {
            "text/html": [
              "<div>\n",
              "<style scoped>\n",
              "    .dataframe tbody tr th:only-of-type {\n",
              "        vertical-align: middle;\n",
              "    }\n",
              "\n",
              "    .dataframe tbody tr th {\n",
              "        vertical-align: top;\n",
              "    }\n",
              "\n",
              "    .dataframe thead th {\n",
              "        text-align: right;\n",
              "    }\n",
              "</style>\n",
              "<table border=\"1\" class=\"dataframe\">\n",
              "  <thead>\n",
              "    <tr style=\"text-align: right;\">\n",
              "      <th></th>\n",
              "      <th>Date</th>\n",
              "      <th>DateType</th>\n",
              "      <th>Age</th>\n",
              "      <th>Sex</th>\n",
              "      <th>Race</th>\n",
              "      <th>ResidenceCity</th>\n",
              "      <th>ResidenceCounty</th>\n",
              "      <th>ResidenceState</th>\n",
              "      <th>DeathCity</th>\n",
              "      <th>DeathCounty</th>\n",
              "      <th>Location</th>\n",
              "      <th>LocationifOther</th>\n",
              "      <th>DescriptionofInjury</th>\n",
              "      <th>InjuryPlace</th>\n",
              "      <th>InjuryCity</th>\n",
              "      <th>InjuryCounty</th>\n",
              "      <th>InjuryState</th>\n",
              "      <th>COD</th>\n",
              "      <th>OtherSignifican</th>\n",
              "      <th>Heroin</th>\n",
              "      <th>Cocaine</th>\n",
              "      <th>Fentanyl</th>\n",
              "      <th>FentanylAnalogue</th>\n",
              "      <th>Oxycodone</th>\n",
              "      <th>Oxymorphone</th>\n",
              "      <th>Ethanol</th>\n",
              "      <th>Hydrocodone</th>\n",
              "      <th>Benzodiazepine</th>\n",
              "      <th>Methadone</th>\n",
              "      <th>Amphet</th>\n",
              "      <th>Tramad</th>\n",
              "      <th>Morphine_NotHeroin</th>\n",
              "      <th>Hydromorphone</th>\n",
              "      <th>Other</th>\n",
              "      <th>OpiateNOS</th>\n",
              "      <th>AnyOpioid</th>\n",
              "      <th>MannerofDeath</th>\n",
              "      <th>DeathCityGeo</th>\n",
              "      <th>ResidenceCityGeo</th>\n",
              "      <th>InjuryCityGeo</th>\n",
              "    </tr>\n",
              "    <tr>\n",
              "      <th>ID</th>\n",
              "      <th></th>\n",
              "      <th></th>\n",
              "      <th></th>\n",
              "      <th></th>\n",
              "      <th></th>\n",
              "      <th></th>\n",
              "      <th></th>\n",
              "      <th></th>\n",
              "      <th></th>\n",
              "      <th></th>\n",
              "      <th></th>\n",
              "      <th></th>\n",
              "      <th></th>\n",
              "      <th></th>\n",
              "      <th></th>\n",
              "      <th></th>\n",
              "      <th></th>\n",
              "      <th></th>\n",
              "      <th></th>\n",
              "      <th></th>\n",
              "      <th></th>\n",
              "      <th></th>\n",
              "      <th></th>\n",
              "      <th></th>\n",
              "      <th></th>\n",
              "      <th></th>\n",
              "      <th></th>\n",
              "      <th></th>\n",
              "      <th></th>\n",
              "      <th></th>\n",
              "      <th></th>\n",
              "      <th></th>\n",
              "      <th></th>\n",
              "      <th></th>\n",
              "      <th></th>\n",
              "      <th></th>\n",
              "      <th></th>\n",
              "      <th></th>\n",
              "      <th></th>\n",
              "      <th></th>\n",
              "    </tr>\n",
              "  </thead>\n",
              "  <tbody>\n",
              "    <tr>\n",
              "      <th>14-0273</th>\n",
              "      <td>06/28/2014 12:00:00 AM</td>\n",
              "      <td>DateReported</td>\n",
              "      <td>NaN</td>\n",
              "      <td>NaN</td>\n",
              "      <td>NaN</td>\n",
              "      <td>NaN</td>\n",
              "      <td>NaN</td>\n",
              "      <td>NaN</td>\n",
              "      <td>NaN</td>\n",
              "      <td>NaN</td>\n",
              "      <td>NaN</td>\n",
              "      <td>NaN</td>\n",
              "      <td>substance</td>\n",
              "      <td>NaN</td>\n",
              "      <td>NaN</td>\n",
              "      <td>NaN</td>\n",
              "      <td>NaN</td>\n",
              "      <td>Acute fent, hydrocod, benzodiazepine</td>\n",
              "      <td>NaN</td>\n",
              "      <td>NaN</td>\n",
              "      <td>NaN</td>\n",
              "      <td>Y</td>\n",
              "      <td>NaN</td>\n",
              "      <td>NaN</td>\n",
              "      <td>NaN</td>\n",
              "      <td>NaN</td>\n",
              "      <td>Y</td>\n",
              "      <td>Y</td>\n",
              "      <td>NaN</td>\n",
              "      <td>NaN</td>\n",
              "      <td>NaN</td>\n",
              "      <td>NaN</td>\n",
              "      <td>NaN</td>\n",
              "      <td>NaN</td>\n",
              "      <td>NaN</td>\n",
              "      <td>NaN</td>\n",
              "      <td>Accident</td>\n",
              "      <td>CT\\n(41.575155, -72.738288)</td>\n",
              "      <td>CT\\n(41.575155, -72.738288)</td>\n",
              "      <td>CT\\n(41.575155, -72.738288)</td>\n",
              "    </tr>\n",
              "    <tr>\n",
              "      <th>13-0102</th>\n",
              "      <td>03/21/2013 12:00:00 AM</td>\n",
              "      <td>DateofDeath</td>\n",
              "      <td>48.0</td>\n",
              "      <td>Male</td>\n",
              "      <td>Black</td>\n",
              "      <td>NORWALK</td>\n",
              "      <td>NaN</td>\n",
              "      <td>NaN</td>\n",
              "      <td>NORWALK</td>\n",
              "      <td>FAIRFIELD</td>\n",
              "      <td>Hospital</td>\n",
              "      <td>NaN</td>\n",
              "      <td>NaN</td>\n",
              "      <td>NaN</td>\n",
              "      <td>NaN</td>\n",
              "      <td>NaN</td>\n",
              "      <td>NaN</td>\n",
              "      <td>Cocaine Intoxication</td>\n",
              "      <td>NaN</td>\n",
              "      <td>NaN</td>\n",
              "      <td>Y</td>\n",
              "      <td>NaN</td>\n",
              "      <td>NaN</td>\n",
              "      <td>NaN</td>\n",
              "      <td>NaN</td>\n",
              "      <td>NaN</td>\n",
              "      <td>NaN</td>\n",
              "      <td>NaN</td>\n",
              "      <td>NaN</td>\n",
              "      <td>NaN</td>\n",
              "      <td>NaN</td>\n",
              "      <td>NaN</td>\n",
              "      <td>NaN</td>\n",
              "      <td>NaN</td>\n",
              "      <td>NaN</td>\n",
              "      <td>NaN</td>\n",
              "      <td>Accident</td>\n",
              "      <td>Norwalk, CT\\n(41.11805, -73.412906)</td>\n",
              "      <td>NORWALK, CT\\n(41.11805, -73.412906)</td>\n",
              "      <td>CT\\n(41.575155, -72.738288)</td>\n",
              "    </tr>\n",
              "    <tr>\n",
              "      <th>16-0165</th>\n",
              "      <td>03/13/2016 12:00:00 AM</td>\n",
              "      <td>DateofDeath</td>\n",
              "      <td>30.0</td>\n",
              "      <td>Female</td>\n",
              "      <td>White</td>\n",
              "      <td>SANDY HOOK</td>\n",
              "      <td>FAIRFIELD</td>\n",
              "      <td>CT</td>\n",
              "      <td>DANBURY</td>\n",
              "      <td>NaN</td>\n",
              "      <td>Hospital</td>\n",
              "      <td>NaN</td>\n",
              "      <td>Substance Abuse</td>\n",
              "      <td>Unknown</td>\n",
              "      <td>UNKNOWN</td>\n",
              "      <td>NaN</td>\n",
              "      <td>NaN</td>\n",
              "      <td>Acute Heroin and Cocaine Intoxication</td>\n",
              "      <td>NaN</td>\n",
              "      <td>Y</td>\n",
              "      <td>Y</td>\n",
              "      <td>NaN</td>\n",
              "      <td>NaN</td>\n",
              "      <td>NaN</td>\n",
              "      <td>NaN</td>\n",
              "      <td>NaN</td>\n",
              "      <td>NaN</td>\n",
              "      <td>NaN</td>\n",
              "      <td>NaN</td>\n",
              "      <td>NaN</td>\n",
              "      <td>NaN</td>\n",
              "      <td>NaN</td>\n",
              "      <td>NaN</td>\n",
              "      <td>NaN</td>\n",
              "      <td>NaN</td>\n",
              "      <td>Y</td>\n",
              "      <td>Accident</td>\n",
              "      <td>Danbury, CT\\n(41.393666, -73.451539)</td>\n",
              "      <td>SANDY HOOK, CT\\n(41.419998, -73.282501)</td>\n",
              "      <td>NaN</td>\n",
              "    </tr>\n",
              "    <tr>\n",
              "      <th>16-0208</th>\n",
              "      <td>03/31/2016 12:00:00 AM</td>\n",
              "      <td>DateofDeath</td>\n",
              "      <td>23.0</td>\n",
              "      <td>Male</td>\n",
              "      <td>White</td>\n",
              "      <td>RYE</td>\n",
              "      <td>WESTCHESTER</td>\n",
              "      <td>NY</td>\n",
              "      <td>GREENWICH</td>\n",
              "      <td>NaN</td>\n",
              "      <td>Hospital</td>\n",
              "      <td>NaN</td>\n",
              "      <td>substance abuse</td>\n",
              "      <td>Residence</td>\n",
              "      <td>RYE</td>\n",
              "      <td>NaN</td>\n",
              "      <td>NaN</td>\n",
              "      <td>Acute Fentanyl and Morphine Intoxication</td>\n",
              "      <td>NaN</td>\n",
              "      <td>Y</td>\n",
              "      <td>NaN</td>\n",
              "      <td>Y</td>\n",
              "      <td>NaN</td>\n",
              "      <td>NaN</td>\n",
              "      <td>NaN</td>\n",
              "      <td>NaN</td>\n",
              "      <td>NaN</td>\n",
              "      <td>NaN</td>\n",
              "      <td>NaN</td>\n",
              "      <td>NaN</td>\n",
              "      <td>NaN</td>\n",
              "      <td>NaN</td>\n",
              "      <td>NaN</td>\n",
              "      <td>NaN</td>\n",
              "      <td>NaN</td>\n",
              "      <td>Y</td>\n",
              "      <td>Accident</td>\n",
              "      <td>Greenwich, CT\\n(41.026526, -73.628549)</td>\n",
              "      <td>NaN</td>\n",
              "      <td>NaN</td>\n",
              "    </tr>\n",
              "    <tr>\n",
              "      <th>13-0052</th>\n",
              "      <td>02/13/2013 12:00:00 AM</td>\n",
              "      <td>DateofDeath</td>\n",
              "      <td>22.0</td>\n",
              "      <td>Male</td>\n",
              "      <td>Asian, Other</td>\n",
              "      <td>FLUSHING</td>\n",
              "      <td>QUEENS</td>\n",
              "      <td>NaN</td>\n",
              "      <td>GREENWICH</td>\n",
              "      <td>FAIRFIELD</td>\n",
              "      <td>Hospital</td>\n",
              "      <td>NaN</td>\n",
              "      <td>Transdermal Absorption</td>\n",
              "      <td>Other</td>\n",
              "      <td>NaN</td>\n",
              "      <td>NaN</td>\n",
              "      <td>NaN</td>\n",
              "      <td>Fentanyl Intoxication</td>\n",
              "      <td>NaN</td>\n",
              "      <td>NaN</td>\n",
              "      <td>NaN</td>\n",
              "      <td>Y</td>\n",
              "      <td>NaN</td>\n",
              "      <td>NaN</td>\n",
              "      <td>NaN</td>\n",
              "      <td>NaN</td>\n",
              "      <td>NaN</td>\n",
              "      <td>NaN</td>\n",
              "      <td>NaN</td>\n",
              "      <td>NaN</td>\n",
              "      <td>NaN</td>\n",
              "      <td>NaN</td>\n",
              "      <td>NaN</td>\n",
              "      <td>NaN</td>\n",
              "      <td>NaN</td>\n",
              "      <td>NaN</td>\n",
              "      <td>Accident</td>\n",
              "      <td>Greenwich, CT\\n(41.026526, -73.628549)</td>\n",
              "      <td>NaN</td>\n",
              "      <td>CT\\n(41.575155, -72.738288)</td>\n",
              "    </tr>\n",
              "  </tbody>\n",
              "</table>\n",
              "</div>"
            ],
            "text/plain": [
              "                           Date  ...                InjuryCityGeo\n",
              "ID                               ...                             \n",
              "14-0273  06/28/2014 12:00:00 AM  ...  CT\\n(41.575155, -72.738288)\n",
              "13-0102  03/21/2013 12:00:00 AM  ...  CT\\n(41.575155, -72.738288)\n",
              "16-0165  03/13/2016 12:00:00 AM  ...                          NaN\n",
              "16-0208  03/31/2016 12:00:00 AM  ...                          NaN\n",
              "13-0052  02/13/2013 12:00:00 AM  ...  CT\\n(41.575155, -72.738288)\n",
              "\n",
              "[5 rows x 40 columns]"
            ]
          },
          "metadata": {
            "tags": []
          },
          "execution_count": 25
        }
      ]
    },
    {
      "cell_type": "code",
      "metadata": {
        "id": "RHPbqLF5EXWN",
        "colab_type": "code",
        "outputId": "6105d3c9-4674-4b71-d1c4-b05e833c9311",
        "colab": {
          "base_uri": "https://localhost:8080/",
          "height": 878
        }
      },
      "source": [
        "drugs_death.info()"
      ],
      "execution_count": 26,
      "outputs": [
        {
          "output_type": "stream",
          "text": [
            "<class 'pandas.core.frame.DataFrame'>\n",
            "Index: 5105 entries, 14-0273 to 16-0637\n",
            "Data columns (total 40 columns):\n",
            " #   Column               Non-Null Count  Dtype  \n",
            "---  ------               --------------  -----  \n",
            " 0   Date                 5103 non-null   object \n",
            " 1   DateType             5103 non-null   object \n",
            " 2   Age                  5102 non-null   float64\n",
            " 3   Sex                  5099 non-null   object \n",
            " 4   Race                 5092 non-null   object \n",
            " 5   ResidenceCity        4932 non-null   object \n",
            " 6   ResidenceCounty      4308 non-null   object \n",
            " 7   ResidenceState       3556 non-null   object \n",
            " 8   DeathCity            5100 non-null   object \n",
            " 9   DeathCounty          4005 non-null   object \n",
            " 10  Location             5081 non-null   object \n",
            " 11  LocationifOther      590 non-null    object \n",
            " 12  DescriptionofInjury  4325 non-null   object \n",
            " 13  InjuryPlace          5039 non-null   object \n",
            " 14  InjuryCity           3349 non-null   object \n",
            " 15  InjuryCounty         2364 non-null   object \n",
            " 16  InjuryState          1424 non-null   object \n",
            " 17  COD                  5105 non-null   object \n",
            " 18  OtherSignifican      169 non-null    object \n",
            " 19  Heroin               2529 non-null   object \n",
            " 20  Cocaine              1521 non-null   object \n",
            " 21  Fentanyl             2232 non-null   object \n",
            " 22  FentanylAnalogue     389 non-null    object \n",
            " 23  Oxycodone            607 non-null    object \n",
            " 24  Oxymorphone          108 non-null    object \n",
            " 25  Ethanol              1247 non-null   object \n",
            " 26  Hydrocodone          118 non-null    object \n",
            " 27  Benzodiazepine       1343 non-null   object \n",
            " 28  Methadone            474 non-null    object \n",
            " 29  Amphet               159 non-null    object \n",
            " 30  Tramad               130 non-null    object \n",
            " 31  Morphine_NotHeroin   42 non-null     object \n",
            " 32  Hydromorphone        25 non-null     object \n",
            " 33  Other                435 non-null    object \n",
            " 34  OpiateNOS            88 non-null     object \n",
            " 35  AnyOpioid            2466 non-null   object \n",
            " 36  MannerofDeath        5095 non-null   object \n",
            " 37  DeathCityGeo         5105 non-null   object \n",
            " 38  ResidenceCityGeo     5012 non-null   object \n",
            " 39  InjuryCityGeo        5027 non-null   object \n",
            "dtypes: float64(1), object(39)\n",
            "memory usage: 1.6+ MB\n"
          ],
          "name": "stdout"
        }
      ]
    },
    {
      "cell_type": "markdown",
      "metadata": {
        "id": "XXgo-WvEe1pJ",
        "colab_type": "text"
      },
      "source": [
        "* As seen above the dataset contains a lot of missing values "
      ]
    },
    {
      "cell_type": "markdown",
      "metadata": {
        "id": "0qqRwY2VXDtz",
        "colab_type": "text"
      },
      "source": [
        "I would like to add another column to the dataset which is Age group. \n",
        "\n",
        "This would gibe me a better understanding of the data"
      ]
    },
    {
      "cell_type": "code",
      "metadata": {
        "id": "ZjIizWyQXJUx",
        "colab_type": "code",
        "colab": {}
      },
      "source": [
        "bins = [0, 18, 60, 100]\n",
        "labels = ['Minor (0 to 17)', 'Adult (18 to 59)', 'Senior Citizens']\n",
        "drugs_death['Age group'] = pd.cut(drugs_death['Age'], bins = bins, labels = labels, right = False)"
      ],
      "execution_count": 0,
      "outputs": []
    },
    {
      "cell_type": "code",
      "metadata": {
        "id": "--aFTU5FZ-wq",
        "colab_type": "code",
        "colab": {
          "base_uri": "https://localhost:8080/",
          "height": 531
        },
        "outputId": "619b109d-519b-4ae8-c546-875622f9b68a"
      },
      "source": [
        "drugs_death.tail()"
      ],
      "execution_count": 49,
      "outputs": [
        {
          "output_type": "execute_result",
          "data": {
            "text/html": [
              "<div>\n",
              "<style scoped>\n",
              "    .dataframe tbody tr th:only-of-type {\n",
              "        vertical-align: middle;\n",
              "    }\n",
              "\n",
              "    .dataframe tbody tr th {\n",
              "        vertical-align: top;\n",
              "    }\n",
              "\n",
              "    .dataframe thead th {\n",
              "        text-align: right;\n",
              "    }\n",
              "</style>\n",
              "<table border=\"1\" class=\"dataframe\">\n",
              "  <thead>\n",
              "    <tr style=\"text-align: right;\">\n",
              "      <th></th>\n",
              "      <th>Date</th>\n",
              "      <th>DateType</th>\n",
              "      <th>Age</th>\n",
              "      <th>Sex</th>\n",
              "      <th>Race</th>\n",
              "      <th>ResidenceCity</th>\n",
              "      <th>ResidenceCounty</th>\n",
              "      <th>ResidenceState</th>\n",
              "      <th>DeathCity</th>\n",
              "      <th>DeathCounty</th>\n",
              "      <th>Location</th>\n",
              "      <th>DescriptionofInjury</th>\n",
              "      <th>InjuryPlace</th>\n",
              "      <th>InjuryCity</th>\n",
              "      <th>InjuryCounty</th>\n",
              "      <th>InjuryState</th>\n",
              "      <th>COD</th>\n",
              "      <th>MannerofDeath</th>\n",
              "      <th>Age group</th>\n",
              "    </tr>\n",
              "    <tr>\n",
              "      <th>ID</th>\n",
              "      <th></th>\n",
              "      <th></th>\n",
              "      <th></th>\n",
              "      <th></th>\n",
              "      <th></th>\n",
              "      <th></th>\n",
              "      <th></th>\n",
              "      <th></th>\n",
              "      <th></th>\n",
              "      <th></th>\n",
              "      <th></th>\n",
              "      <th></th>\n",
              "      <th></th>\n",
              "      <th></th>\n",
              "      <th></th>\n",
              "      <th></th>\n",
              "      <th></th>\n",
              "      <th></th>\n",
              "      <th></th>\n",
              "    </tr>\n",
              "  </thead>\n",
              "  <tbody>\n",
              "    <tr>\n",
              "      <th>15-0466</th>\n",
              "      <td>09/08/2015 12:00:00 AM</td>\n",
              "      <td>DateReported</td>\n",
              "      <td>43.0</td>\n",
              "      <td>Male</td>\n",
              "      <td>White</td>\n",
              "      <td>CHESHIRE</td>\n",
              "      <td>NEW HAVEN</td>\n",
              "      <td>CT</td>\n",
              "      <td>CHESHIRE</td>\n",
              "      <td>NEW HAVEN</td>\n",
              "      <td>Residence</td>\n",
              "      <td>NaN</td>\n",
              "      <td>Residence</td>\n",
              "      <td>NaN</td>\n",
              "      <td>NaN</td>\n",
              "      <td>NaN</td>\n",
              "      <td>Acute Intoxication due to the Combined Effects...</td>\n",
              "      <td>Accident</td>\n",
              "      <td>Adult (18 to 59)</td>\n",
              "    </tr>\n",
              "    <tr>\n",
              "      <th>17-0618</th>\n",
              "      <td>07/22/2017 12:00:00 AM</td>\n",
              "      <td>DateReported</td>\n",
              "      <td>21.0</td>\n",
              "      <td>Male</td>\n",
              "      <td>White</td>\n",
              "      <td>MADISON</td>\n",
              "      <td>NEW HAVEN</td>\n",
              "      <td>CT</td>\n",
              "      <td>NEW HAVEN</td>\n",
              "      <td>NEW HAVEN</td>\n",
              "      <td>Hospital</td>\n",
              "      <td>Drug Abuse</td>\n",
              "      <td>In Vehicle</td>\n",
              "      <td>NaN</td>\n",
              "      <td>NaN</td>\n",
              "      <td>NaN</td>\n",
              "      <td>Multidrug Toxicity Including Heroin, Alprazola...</td>\n",
              "      <td>Accident</td>\n",
              "      <td>Adult (18 to 59)</td>\n",
              "    </tr>\n",
              "    <tr>\n",
              "      <th>18-0646</th>\n",
              "      <td>08/14/2018 12:00:00 AM</td>\n",
              "      <td>DateofDeath</td>\n",
              "      <td>30.0</td>\n",
              "      <td>Male</td>\n",
              "      <td>White</td>\n",
              "      <td>LAWRENCEVILLE</td>\n",
              "      <td>TIOGA</td>\n",
              "      <td>PA</td>\n",
              "      <td>DANBURY</td>\n",
              "      <td>FAIRFIELD</td>\n",
              "      <td>Other</td>\n",
              "      <td>Drug abuse</td>\n",
              "      <td>Hotel or Motel</td>\n",
              "      <td>DANBURY</td>\n",
              "      <td>FAIRFIELD</td>\n",
              "      <td>NaN</td>\n",
              "      <td>Multidrug Toxicity Including Heroin, Fentanyl,...</td>\n",
              "      <td>Accident</td>\n",
              "      <td>Adult (18 to 59)</td>\n",
              "    </tr>\n",
              "    <tr>\n",
              "      <th>14-0124</th>\n",
              "      <td>03/16/2014 12:00:00 AM</td>\n",
              "      <td>DateofDeath</td>\n",
              "      <td>33.0</td>\n",
              "      <td>Male</td>\n",
              "      <td>White</td>\n",
              "      <td>HARTFORD</td>\n",
              "      <td>NaN</td>\n",
              "      <td>NaN</td>\n",
              "      <td>WINDSOR</td>\n",
              "      <td>NaN</td>\n",
              "      <td>Other</td>\n",
              "      <td>Substance Abuse</td>\n",
              "      <td>Hotel or Motel</td>\n",
              "      <td>NaN</td>\n",
              "      <td>NaN</td>\n",
              "      <td>NaN</td>\n",
              "      <td>Acute Fentanyl intoxication</td>\n",
              "      <td>Accident</td>\n",
              "      <td>Adult (18 to 59)</td>\n",
              "    </tr>\n",
              "    <tr>\n",
              "      <th>16-0637</th>\n",
              "      <td>09/15/2016 12:00:00 AM</td>\n",
              "      <td>DateofDeath</td>\n",
              "      <td>33.0</td>\n",
              "      <td>Male</td>\n",
              "      <td>White</td>\n",
              "      <td>THOMASTON</td>\n",
              "      <td>LITCHFIELD</td>\n",
              "      <td>CT</td>\n",
              "      <td>WATERBURY</td>\n",
              "      <td>NaN</td>\n",
              "      <td>Other</td>\n",
              "      <td>Substance Abuse</td>\n",
              "      <td>Railroad Track</td>\n",
              "      <td>WATERBURY, CT</td>\n",
              "      <td>NaN</td>\n",
              "      <td>NaN</td>\n",
              "      <td>Acute Heroin Intoxication</td>\n",
              "      <td>Accident</td>\n",
              "      <td>Adult (18 to 59)</td>\n",
              "    </tr>\n",
              "  </tbody>\n",
              "</table>\n",
              "</div>"
            ],
            "text/plain": [
              "                           Date      DateType  ...  MannerofDeath         Age group\n",
              "ID                                             ...                                 \n",
              "15-0466  09/08/2015 12:00:00 AM  DateReported  ...       Accident  Adult (18 to 59)\n",
              "17-0618  07/22/2017 12:00:00 AM  DateReported  ...       Accident  Adult (18 to 59)\n",
              "18-0646  08/14/2018 12:00:00 AM   DateofDeath  ...       Accident  Adult (18 to 59)\n",
              "14-0124  03/16/2014 12:00:00 AM   DateofDeath  ...       Accident  Adult (18 to 59)\n",
              "16-0637  09/15/2016 12:00:00 AM   DateofDeath  ...       Accident  Adult (18 to 59)\n",
              "\n",
              "[5 rows x 19 columns]"
            ]
          },
          "metadata": {
            "tags": []
          },
          "execution_count": 49
        }
      ]
    },
    {
      "cell_type": "markdown",
      "metadata": {
        "id": "ctL1TyTZaJwJ",
        "colab_type": "text"
      },
      "source": [
        "* The Age group column has been added to the data "
      ]
    },
    {
      "cell_type": "markdown",
      "metadata": {
        "id": "9eYH6ewde7MS",
        "colab_type": "text"
      },
      "source": [
        "Here I removed the columns I do not want to perfrom analysis on "
      ]
    },
    {
      "cell_type": "code",
      "metadata": {
        "id": "4yXzgbmMGQvp",
        "colab_type": "code",
        "colab": {}
      },
      "source": [
        "drugs_death.drop(columns = ['Heroin', 'Cocaine', 'Fentanyl', 'FentanylAnalogue', 'Oxycodone', 'Oxymorphone', 'Ethanol', 'Hydrocodone',\n",
        "                            'Benzodiazepine', 'Methadone', 'Amphet', 'Tramad', 'Morphine_NotHeroin', 'Hydromorphone', \n",
        "                            'Other', 'OpiateNOS', 'AnyOpioid', 'OtherSignifican', 'DeathCityGeo', \n",
        "                            'ResidenceCityGeo', 'InjuryCityGeo', 'LocationifOther'], inplace = True)"
      ],
      "execution_count": 0,
      "outputs": []
    },
    {
      "cell_type": "markdown",
      "metadata": {
        "id": "Jer5JRchfDIl",
        "colab_type": "text"
      },
      "source": [
        "Below are the remaining columns in the data"
      ]
    },
    {
      "cell_type": "code",
      "metadata": {
        "id": "Tz_aZA5yI6s0",
        "colab_type": "code",
        "outputId": "ff11829f-69bd-4ed9-b76f-e33065d2fbe1",
        "colab": {
          "base_uri": "https://localhost:8080/",
          "height": 431
        }
      },
      "source": [
        "drugs_death.head()"
      ],
      "execution_count": 30,
      "outputs": [
        {
          "output_type": "execute_result",
          "data": {
            "text/html": [
              "<div>\n",
              "<style scoped>\n",
              "    .dataframe tbody tr th:only-of-type {\n",
              "        vertical-align: middle;\n",
              "    }\n",
              "\n",
              "    .dataframe tbody tr th {\n",
              "        vertical-align: top;\n",
              "    }\n",
              "\n",
              "    .dataframe thead th {\n",
              "        text-align: right;\n",
              "    }\n",
              "</style>\n",
              "<table border=\"1\" class=\"dataframe\">\n",
              "  <thead>\n",
              "    <tr style=\"text-align: right;\">\n",
              "      <th></th>\n",
              "      <th>Date</th>\n",
              "      <th>DateType</th>\n",
              "      <th>Age</th>\n",
              "      <th>Sex</th>\n",
              "      <th>Race</th>\n",
              "      <th>ResidenceCity</th>\n",
              "      <th>ResidenceCounty</th>\n",
              "      <th>ResidenceState</th>\n",
              "      <th>DeathCity</th>\n",
              "      <th>DeathCounty</th>\n",
              "      <th>Location</th>\n",
              "      <th>DescriptionofInjury</th>\n",
              "      <th>InjuryPlace</th>\n",
              "      <th>InjuryCity</th>\n",
              "      <th>InjuryCounty</th>\n",
              "      <th>InjuryState</th>\n",
              "      <th>COD</th>\n",
              "      <th>MannerofDeath</th>\n",
              "      <th>Age group</th>\n",
              "    </tr>\n",
              "    <tr>\n",
              "      <th>ID</th>\n",
              "      <th></th>\n",
              "      <th></th>\n",
              "      <th></th>\n",
              "      <th></th>\n",
              "      <th></th>\n",
              "      <th></th>\n",
              "      <th></th>\n",
              "      <th></th>\n",
              "      <th></th>\n",
              "      <th></th>\n",
              "      <th></th>\n",
              "      <th></th>\n",
              "      <th></th>\n",
              "      <th></th>\n",
              "      <th></th>\n",
              "      <th></th>\n",
              "      <th></th>\n",
              "      <th></th>\n",
              "      <th></th>\n",
              "    </tr>\n",
              "  </thead>\n",
              "  <tbody>\n",
              "    <tr>\n",
              "      <th>14-0273</th>\n",
              "      <td>06/28/2014 12:00:00 AM</td>\n",
              "      <td>DateReported</td>\n",
              "      <td>NaN</td>\n",
              "      <td>NaN</td>\n",
              "      <td>NaN</td>\n",
              "      <td>NaN</td>\n",
              "      <td>NaN</td>\n",
              "      <td>NaN</td>\n",
              "      <td>NaN</td>\n",
              "      <td>NaN</td>\n",
              "      <td>NaN</td>\n",
              "      <td>substance</td>\n",
              "      <td>NaN</td>\n",
              "      <td>NaN</td>\n",
              "      <td>NaN</td>\n",
              "      <td>NaN</td>\n",
              "      <td>Acute fent, hydrocod, benzodiazepine</td>\n",
              "      <td>Accident</td>\n",
              "      <td>NaN</td>\n",
              "    </tr>\n",
              "    <tr>\n",
              "      <th>13-0102</th>\n",
              "      <td>03/21/2013 12:00:00 AM</td>\n",
              "      <td>DateofDeath</td>\n",
              "      <td>48.0</td>\n",
              "      <td>Male</td>\n",
              "      <td>Black</td>\n",
              "      <td>NORWALK</td>\n",
              "      <td>NaN</td>\n",
              "      <td>NaN</td>\n",
              "      <td>NORWALK</td>\n",
              "      <td>FAIRFIELD</td>\n",
              "      <td>Hospital</td>\n",
              "      <td>NaN</td>\n",
              "      <td>NaN</td>\n",
              "      <td>NaN</td>\n",
              "      <td>NaN</td>\n",
              "      <td>NaN</td>\n",
              "      <td>Cocaine Intoxication</td>\n",
              "      <td>Accident</td>\n",
              "      <td>Adult</td>\n",
              "    </tr>\n",
              "    <tr>\n",
              "      <th>16-0165</th>\n",
              "      <td>03/13/2016 12:00:00 AM</td>\n",
              "      <td>DateofDeath</td>\n",
              "      <td>30.0</td>\n",
              "      <td>Female</td>\n",
              "      <td>White</td>\n",
              "      <td>SANDY HOOK</td>\n",
              "      <td>FAIRFIELD</td>\n",
              "      <td>CT</td>\n",
              "      <td>DANBURY</td>\n",
              "      <td>NaN</td>\n",
              "      <td>Hospital</td>\n",
              "      <td>Substance Abuse</td>\n",
              "      <td>Unknown</td>\n",
              "      <td>UNKNOWN</td>\n",
              "      <td>NaN</td>\n",
              "      <td>NaN</td>\n",
              "      <td>Acute Heroin and Cocaine Intoxication</td>\n",
              "      <td>Accident</td>\n",
              "      <td>Adult</td>\n",
              "    </tr>\n",
              "    <tr>\n",
              "      <th>16-0208</th>\n",
              "      <td>03/31/2016 12:00:00 AM</td>\n",
              "      <td>DateofDeath</td>\n",
              "      <td>23.0</td>\n",
              "      <td>Male</td>\n",
              "      <td>White</td>\n",
              "      <td>RYE</td>\n",
              "      <td>WESTCHESTER</td>\n",
              "      <td>NY</td>\n",
              "      <td>GREENWICH</td>\n",
              "      <td>NaN</td>\n",
              "      <td>Hospital</td>\n",
              "      <td>substance abuse</td>\n",
              "      <td>Residence</td>\n",
              "      <td>RYE</td>\n",
              "      <td>NaN</td>\n",
              "      <td>NaN</td>\n",
              "      <td>Acute Fentanyl and Morphine Intoxication</td>\n",
              "      <td>Accident</td>\n",
              "      <td>Adult</td>\n",
              "    </tr>\n",
              "    <tr>\n",
              "      <th>13-0052</th>\n",
              "      <td>02/13/2013 12:00:00 AM</td>\n",
              "      <td>DateofDeath</td>\n",
              "      <td>22.0</td>\n",
              "      <td>Male</td>\n",
              "      <td>Asian, Other</td>\n",
              "      <td>FLUSHING</td>\n",
              "      <td>QUEENS</td>\n",
              "      <td>NaN</td>\n",
              "      <td>GREENWICH</td>\n",
              "      <td>FAIRFIELD</td>\n",
              "      <td>Hospital</td>\n",
              "      <td>Transdermal Absorption</td>\n",
              "      <td>Other</td>\n",
              "      <td>NaN</td>\n",
              "      <td>NaN</td>\n",
              "      <td>NaN</td>\n",
              "      <td>Fentanyl Intoxication</td>\n",
              "      <td>Accident</td>\n",
              "      <td>Adult</td>\n",
              "    </tr>\n",
              "  </tbody>\n",
              "</table>\n",
              "</div>"
            ],
            "text/plain": [
              "                           Date      DateType  ...  MannerofDeath Age group\n",
              "ID                                             ...                         \n",
              "14-0273  06/28/2014 12:00:00 AM  DateReported  ...       Accident       NaN\n",
              "13-0102  03/21/2013 12:00:00 AM   DateofDeath  ...       Accident     Adult\n",
              "16-0165  03/13/2016 12:00:00 AM   DateofDeath  ...       Accident     Adult\n",
              "16-0208  03/31/2016 12:00:00 AM   DateofDeath  ...       Accident     Adult\n",
              "13-0052  02/13/2013 12:00:00 AM   DateofDeath  ...       Accident     Adult\n",
              "\n",
              "[5 rows x 19 columns]"
            ]
          },
          "metadata": {
            "tags": []
          },
          "execution_count": 30
        }
      ]
    },
    {
      "cell_type": "markdown",
      "metadata": {
        "id": "N1poaKF-fJJF",
        "colab_type": "text"
      },
      "source": [
        "###DATE TYPE"
      ]
    },
    {
      "cell_type": "markdown",
      "metadata": {
        "id": "jt5nQD9XfPl9",
        "colab_type": "text"
      },
      "source": [
        "**PERCENTAGE OF DATE OF DEATH TO DATE DEATH WAS REPORTED**"
      ]
    },
    {
      "cell_type": "code",
      "metadata": {
        "id": "JsF1S88mJjKr",
        "colab_type": "code",
        "outputId": "c3ec3c84-3897-4996-badd-a221988eb666",
        "colab": {
          "base_uri": "https://localhost:8080/",
          "height": 72
        }
      },
      "source": [
        "drugs_death['DateType'].value_counts()"
      ],
      "execution_count": 31,
      "outputs": [
        {
          "output_type": "execute_result",
          "data": {
            "text/plain": [
              "DateofDeath     2822\n",
              "DateReported    2281\n",
              "Name: DateType, dtype: int64"
            ]
          },
          "metadata": {
            "tags": []
          },
          "execution_count": 31
        }
      ]
    },
    {
      "cell_type": "markdown",
      "metadata": {
        "id": "0pc7OTYIh2sG",
        "colab_type": "text"
      },
      "source": [
        "* 2822 deaths were confirmed by the officials \n",
        "* 2281 deaths were reported"
      ]
    },
    {
      "cell_type": "code",
      "metadata": {
        "id": "whzF64fegLor",
        "colab_type": "code",
        "outputId": "31799ff6-1d05-403e-c2b3-26622c3de9de",
        "colab": {
          "base_uri": "https://localhost:8080/",
          "height": 264
        }
      },
      "source": [
        "labels = 'Date of death', 'Date Reported'\n",
        "size = [2822, 2281]\n",
        "explode = [0, 0.1]\n",
        "\n",
        "fig1, ax1 = plt.subplots()\n",
        "ax1.pie(size, labels = labels, explode = explode, autopct = '%1.1f%%', startangle = 90)\n",
        "ax1.axis('equal')\n",
        "plt.title(\"PIE CHART SHOWING THE PERCENTAGE OF DATE OF DEATH TO DATE REPORTED\")\n",
        "plt.show()"
      ],
      "execution_count": 32,
      "outputs": [
        {
          "output_type": "display_data",
          "data": {
            "image/png": "[encoded data removed]",
            "text/plain": [
              "<Figure size 432x288 with 1 Axes>"
            ]
          },
          "metadata": {
            "tags": []
          }
        }
      ]
    },
    {
      "cell_type": "markdown",
      "metadata": {
        "id": "6pnc_AgziRgh",
        "colab_type": "text"
      },
      "source": [
        "* 55.3 percent of the deaths were confirmed by the officials\n",
        "* 44.7 percent of the deaths were reported to the authorities"
      ]
    },
    {
      "cell_type": "markdown",
      "metadata": {
        "id": "7lxHtPGpiiiB",
        "colab_type": "text"
      },
      "source": [
        "###SEX"
      ]
    },
    {
      "cell_type": "markdown",
      "metadata": {
        "id": "Nj5AYGh3ik4W",
        "colab_type": "text"
      },
      "source": [
        "**NUMBER OF PEOPLE THAT DIED FROM DRUGS BY GENDER**"
      ]
    },
    {
      "cell_type": "code",
      "metadata": {
        "id": "z2a163ooM_3N",
        "colab_type": "code",
        "outputId": "7be5aa5d-966c-4d3c-e80b-99d55a8cd08a",
        "colab": {
          "base_uri": "https://localhost:8080/",
          "height": 90
        }
      },
      "source": [
        "drugs_death['Sex'].value_counts()"
      ],
      "execution_count": 33,
      "outputs": [
        {
          "output_type": "execute_result",
          "data": {
            "text/plain": [
              "Male       3773\n",
              "Female     1325\n",
              "Unknown       1\n",
              "Name: Sex, dtype: int64"
            ]
          },
          "metadata": {
            "tags": []
          },
          "execution_count": 33
        }
      ]
    },
    {
      "cell_type": "markdown",
      "metadata": {
        "id": "dAwbVZzwi0Qt",
        "colab_type": "text"
      },
      "source": [
        "* 3773 men died from drugs \n",
        "* 1325 women died from drugs\n",
        "\n",
        "The sex of 1 person was not specified "
      ]
    },
    {
      "cell_type": "markdown",
      "metadata": {
        "id": "g_lXz-NujYx2",
        "colab_type": "text"
      },
      "source": [
        "###RACE"
      ]
    },
    {
      "cell_type": "markdown",
      "metadata": {
        "id": "TAJq96VJkEEv",
        "colab_type": "text"
      },
      "source": [
        "**NUMBER OF DEATHS BY RACE**"
      ]
    },
    {
      "cell_type": "code",
      "metadata": {
        "id": "QojcQNxNNIqb",
        "colab_type": "code",
        "outputId": "0fad2478-9c56-4009-81e1-ad82435869e4",
        "colab": {
          "base_uri": "https://localhost:8080/",
          "height": 237
        }
      },
      "source": [
        "drugs_death['Race'].value_counts()"
      ],
      "execution_count": 34,
      "outputs": [
        {
          "output_type": "execute_result",
          "data": {
            "text/plain": [
              "White                     4004\n",
              "Hispanic, White            561\n",
              "Black                      433\n",
              "Hispanic, Black             24\n",
              "Unknown                     23\n",
              "Asian, Other                18\n",
              "Asian Indian                14\n",
              "Other                       11\n",
              "Chinese                      2\n",
              "Hawaiian                     1\n",
              "Native American, Other       1\n",
              "Name: Race, dtype: int64"
            ]
          },
          "metadata": {
            "tags": []
          },
          "execution_count": 34
        }
      ]
    },
    {
      "cell_type": "markdown",
      "metadata": {
        "id": "6rXFEy57kKb1",
        "colab_type": "text"
      },
      "source": [
        "* The white race experienced the most deaths from drugs with 4004 deaths\n",
        "* The races with the lowest death toll were Native American (Other) and Hawaiian with a death each"
      ]
    },
    {
      "cell_type": "markdown",
      "metadata": {
        "id": "R3o0ZCbGkhcQ",
        "colab_type": "text"
      },
      "source": [
        "**DEATHS BY GENDER AND RACE**"
      ]
    },
    {
      "cell_type": "code",
      "metadata": {
        "id": "Dxmkmd-mkx1u",
        "colab_type": "code",
        "outputId": "beb80db8-8e67-4e66-e705-e91615c90913",
        "colab": {
          "base_uri": "https://localhost:8080/",
          "height": 92
        }
      },
      "source": [
        "import seaborn as sns\n",
        "print(\"Success\")"
      ],
      "execution_count": 35,
      "outputs": [
        {
          "output_type": "stream",
          "text": [
            "Success\n"
          ],
          "name": "stdout"
        },
        {
          "output_type": "stream",
          "text": [
            "/usr/local/lib/python3.6/dist-packages/statsmodels/tools/_testing.py:19: FutureWarning: pandas.util.testing is deprecated. Use the functions in the public API at pandas.testing instead.\n",
            "  import pandas.util.testing as tm\n"
          ],
          "name": "stderr"
        }
      ]
    },
    {
      "cell_type": "code",
      "metadata": {
        "id": "4bovC8zdkiEY",
        "colab_type": "code",
        "outputId": "a192ae80-bea6-4bfd-b8a0-8c24a99457ba",
        "colab": {
          "base_uri": "https://localhost:8080/",
          "height": 484
        }
      },
      "source": [
        "plt.figure(figsize = (14, 6))\n",
        "\n",
        "sns.countplot('Race', hue = 'Sex', data = drugs_death)\n",
        "plt.title(\"BAR CHART SHOWING THE DEATHS BY RACE AND GENDER\")\n",
        "plt.xticks(rotation = -45)\n",
        "plt.legend(loc = 'upper right')\n",
        "plt.ylabel(\"Death toll\")\n",
        "plt.show()"
      ],
      "execution_count": 47,
      "outputs": [
        {
          "output_type": "display_data",
          "data": {
            "image/png": "[encoded data removed]",
            "text/plain": [
              "<Figure size 1008x432 with 1 Axes>"
            ]
          },
          "metadata": {
            "tags": [],
            "needs_background": "light"
          }
        }
      ]
    },
    {
      "cell_type": "markdown",
      "metadata": {
        "id": "vuK5AYsInb2N",
        "colab_type": "text"
      },
      "source": [
        "* Men had a higher death toll across all races\n",
        "* We can say that more men died from drugs than women "
      ]
    },
    {
      "cell_type": "markdown",
      "metadata": {
        "id": "2AM5OMp4ryLT",
        "colab_type": "text"
      },
      "source": [
        "###DEATH LOCATION"
      ]
    },
    {
      "cell_type": "markdown",
      "metadata": {
        "id": "lg-Q-uUBr21L",
        "colab_type": "text"
      },
      "source": [
        "**DEATH BY DEATH LOCATION**"
      ]
    },
    {
      "cell_type": "code",
      "metadata": {
        "id": "y2HDee5LNa4B",
        "colab_type": "code",
        "outputId": "106dedeb-2e69-4240-f65b-03dd88e0c62e",
        "colab": {
          "base_uri": "https://localhost:8080/",
          "height": 145
        }
      },
      "source": [
        "drugs_death['Location'].value_counts()"
      ],
      "execution_count": 37,
      "outputs": [
        {
          "output_type": "execute_result",
          "data": {
            "text/plain": [
              "Residence            2677\n",
              "Hospital             1626\n",
              "Other                 773\n",
              "Convalescent Home       3\n",
              "Nursing Home            1\n",
              "Hospice                 1\n",
              "Name: Location, dtype: int64"
            ]
          },
          "metadata": {
            "tags": []
          },
          "execution_count": 37
        }
      ]
    },
    {
      "cell_type": "markdown",
      "metadata": {
        "id": "ijiv0zOUr-7G",
        "colab_type": "text"
      },
      "source": [
        "* Most of the individuals died at their residence with 2677\n",
        "* The number of people who died in hospitals was also relatively high with 1626 deaths"
      ]
    },
    {
      "cell_type": "code",
      "metadata": {
        "id": "FIsTB0AnslFY",
        "colab_type": "code",
        "outputId": "655c54d3-62f6-4663-d259-1eeb76f3fe86",
        "colab": {
          "base_uri": "https://localhost:8080/",
          "height": 404
        }
      },
      "source": [
        "plt.figure(figsize = (14, 6))\n",
        "sns.countplot('Location', data = drugs_death, palette = 'deep')\n",
        "plt.title(\"BAR CHART SHOWING DEATHS BY DEATH LOCATION\")\n",
        "plt.ylabel(\"Death toll\")\n",
        "plt.show()"
      ],
      "execution_count": 38,
      "outputs": [
        {
          "output_type": "display_data",
          "data": {
            "image/png": "[encoded data removed]",
            "text/plain": [
              "<Figure size 1008x432 with 1 Axes>"
            ]
          },
          "metadata": {
            "tags": [],
            "needs_background": "light"
          }
        }
      ]
    },
    {
      "cell_type": "markdown",
      "metadata": {
        "id": "YWUK3MeGuabQ",
        "colab_type": "text"
      },
      "source": [
        "###MANNER OF DEATH"
      ]
    },
    {
      "cell_type": "markdown",
      "metadata": {
        "id": "OiCvjINaud3V",
        "colab_type": "text"
      },
      "source": [
        "**DEATH TOLL BY MANNER OF DEATH**"
      ]
    },
    {
      "cell_type": "code",
      "metadata": {
        "id": "5Cf_c4DhNzj5",
        "colab_type": "code",
        "outputId": "3109b427-e72f-4add-e814-eae0664baf94",
        "colab": {
          "base_uri": "https://localhost:8080/",
          "height": 127
        }
      },
      "source": [
        "drugs_death['MannerofDeath'].value_counts()"
      ],
      "execution_count": 39,
      "outputs": [
        {
          "output_type": "execute_result",
          "data": {
            "text/plain": [
              "Accident    5066\n",
              "Pending       14\n",
              "accident      13\n",
              "Natural        1\n",
              "ACCIDENT       1\n",
              "Name: MannerofDeath, dtype: int64"
            ]
          },
          "metadata": {
            "tags": []
          },
          "execution_count": 39
        }
      ]
    },
    {
      "cell_type": "markdown",
      "metadata": {
        "id": "Xkj0yn5HuvRG",
        "colab_type": "text"
      },
      "source": [
        "* There is a case inconsistency in the data that we have to deal with "
      ]
    },
    {
      "cell_type": "code",
      "metadata": {
        "id": "7A7n0qWKOSrj",
        "colab_type": "code",
        "colab": {}
      },
      "source": [
        "drugs_death['MannerofDeath'].replace(to_replace = 'ACCIDENT', value = 'Accident', inplace = True)\n",
        "drugs_death['MannerofDeath'].replace(to_replace = 'accident', value = 'Accident', inplace = True)\n"
      ],
      "execution_count": 0,
      "outputs": []
    },
    {
      "cell_type": "code",
      "metadata": {
        "id": "UrCiX_LVO9lH",
        "colab_type": "code",
        "outputId": "c50831fc-f890-4e62-d4ce-cdba27da943c",
        "colab": {
          "base_uri": "https://localhost:8080/",
          "height": 90
        }
      },
      "source": [
        "drugs_death['MannerofDeath'].value_counts()"
      ],
      "execution_count": 41,
      "outputs": [
        {
          "output_type": "execute_result",
          "data": {
            "text/plain": [
              "Accident    5080\n",
              "Pending       14\n",
              "Natural        1\n",
              "Name: MannerofDeath, dtype: int64"
            ]
          },
          "metadata": {
            "tags": []
          },
          "execution_count": 41
        }
      ]
    },
    {
      "cell_type": "markdown",
      "metadata": {
        "id": "J6WsfBGJu6rE",
        "colab_type": "text"
      },
      "source": [
        "* Most people died by accident here with 5000\n",
        "* Only 1 person died naturally \n",
        "* The manner of death of 14 people are pending "
      ]
    },
    {
      "cell_type": "code",
      "metadata": {
        "id": "uJtZ_9SQvYJG",
        "colab_type": "code",
        "outputId": "0d6e9825-c4ee-4e81-dd9e-2a53fc4c0d8d",
        "colab": {
          "base_uri": "https://localhost:8080/",
          "height": 404
        }
      },
      "source": [
        "plt.figure(figsize = (7, 6))\n",
        "sns.countplot('MannerofDeath', data = drugs_death)\n",
        "plt.title(\"DEATH TOLL BY MANNER OF DEATH\")\n",
        "plt.ylabel(\"Death toll\")\n",
        "plt.xlabel(\"Manner of death\")\n",
        "plt.show()"
      ],
      "execution_count": 42,
      "outputs": [
        {
          "output_type": "display_data",
          "data": {
            "image/png": "[encoded data removed]",
            "text/plain": [
              "<Figure size 504x432 with 1 Axes>"
            ]
          },
          "metadata": {
            "tags": [],
            "needs_background": "light"
          }
        }
      ]
    },
    {
      "cell_type": "markdown",
      "metadata": {
        "id": "1HxAHttdyPUJ",
        "colab_type": "text"
      },
      "source": [
        "##RESIDENCE STATE"
      ]
    },
    {
      "cell_type": "markdown",
      "metadata": {
        "id": "l-KAZ4TGySLZ",
        "colab_type": "text"
      },
      "source": [
        "**DEATH TOLL BY RESIDENCE CITY**"
      ]
    },
    {
      "cell_type": "code",
      "metadata": {
        "id": "V3nG64y0x0sj",
        "colab_type": "code",
        "outputId": "7e103d49-3282-4b86-e1fc-14957bf0a622",
        "colab": {
          "base_uri": "https://localhost:8080/",
          "height": 512
        }
      },
      "source": [
        "drugs_death['ResidenceState'].value_counts()"
      ],
      "execution_count": 43,
      "outputs": [
        {
          "output_type": "execute_result",
          "data": {
            "text/plain": [
              "CT    3442\n",
              "NY      29\n",
              "MA      23\n",
              "FL      10\n",
              "NJ      10\n",
              "RI       8\n",
              "PA       5\n",
              "TX       4\n",
              "ME       4\n",
              "CA       3\n",
              "CO       2\n",
              "IL       2\n",
              "NC       1\n",
              "LA       1\n",
              "TN       1\n",
              "OH       1\n",
              "AL       1\n",
              "MN       1\n",
              "VT       1\n",
              "MD       1\n",
              "NH       1\n",
              "GA       1\n",
              "SC       1\n",
              "SD       1\n",
              "OK       1\n",
              "MI       1\n",
              "Name: ResidenceState, dtype: int64"
            ]
          },
          "metadata": {
            "tags": []
          },
          "execution_count": 43
        }
      ]
    },
    {
      "cell_type": "markdown",
      "metadata": {
        "id": "ujoOQdJeyX1o",
        "colab_type": "text"
      },
      "source": [
        "* Most of the individual libed in Connecticut which suggest that the rate drugs are being used in Connecticut is alarming "
      ]
    },
    {
      "cell_type": "markdown",
      "metadata": {
        "id": "lbDUoiLjyt6A",
        "colab_type": "text"
      },
      "source": [
        "Lets see how high it is in the bar chart below "
      ]
    },
    {
      "cell_type": "code",
      "metadata": {
        "id": "7Iws7AkezDOc",
        "colab_type": "code",
        "outputId": "08b03a01-ea9e-477b-cea7-e129ccd6b01a",
        "colab": {
          "base_uri": "https://localhost:8080/",
          "height": 388
        }
      },
      "source": [
        "plt.figure(figsize = (16, 6))\n",
        "sns.countplot('ResidenceState', data = drugs_death)\n",
        "plt.xlabel(\"Residence State\")\n",
        "plt.ylabel(\"Death toll\")\n",
        "plt.show()"
      ],
      "execution_count": 44,
      "outputs": [
        {
          "output_type": "display_data",
          "data": {
            "image/png": "[encoded data removed]",
            "text/plain": [
              "<Figure size 1152x432 with 1 Axes>"
            ]
          },
          "metadata": {
            "tags": [],
            "needs_background": "light"
          }
        }
      ]
    },
    {
      "cell_type": "markdown",
      "metadata": {
        "id": "TQfhvsXG0E00",
        "colab_type": "text"
      },
      "source": [
        "Furhter analysis can be done on this data set\n",
        "\n",
        "I will explore other features as time goes on "
      ]
    },
    {
      "cell_type": "markdown",
      "metadata": {
        "id": "Y4Tm4fsBbE7y",
        "colab_type": "text"
      },
      "source": [
        "###AGE GROUP"
      ]
    },
    {
      "cell_type": "markdown",
      "metadata": {
        "id": "VryZnG1Cbv5U",
        "colab_type": "text"
      },
      "source": [
        "**NUMBER OF DEATHS BY AGE GROUP**"
      ]
    },
    {
      "cell_type": "code",
      "metadata": {
        "id": "pZhn7pSKbvZg",
        "colab_type": "code",
        "colab": {
          "base_uri": "https://localhost:8080/",
          "height": 90
        },
        "outputId": "0452e2d9-ed6a-4838-ffa7-8dab80f7af66"
      },
      "source": [
        "drugs_death['Age group'].value_counts()"
      ],
      "execution_count": 50,
      "outputs": [
        {
          "output_type": "execute_result",
          "data": {
            "text/plain": [
              "Adult (18 to 59)    4699\n",
              "Senior Citizens      390\n",
              "Minor (0 to 17)       13\n",
              "Name: Age group, dtype: int64"
            ]
          },
          "metadata": {
            "tags": []
          },
          "execution_count": 50
        }
      ]
    },
    {
      "cell_type": "markdown",
      "metadata": {
        "id": "S9ft9I0RcE0P",
        "colab_type": "text"
      },
      "source": [
        "* The adults died most from drugs with 4699 deaths "
      ]
    },
    {
      "cell_type": "code",
      "metadata": {
        "id": "-QOdLTCNcR91",
        "colab_type": "code",
        "colab": {
          "base_uri": "https://localhost:8080/",
          "height": 295
        },
        "outputId": "82f4116a-bc18-4717-a882-7565b1760b45"
      },
      "source": [
        "sns.countplot('Age group', data = drugs_death)\n",
        "plt.title(\"DIAGRAM SHOWING DEATH TOLL BY AGE GROUP\")\n",
        "plt.ylabel(\"Death toll\")\n",
        "plt.show()"
      ],
      "execution_count": 52,
      "outputs": [
        {
          "output_type": "display_data",
          "data": {
            "image/png": "[encoded data removed]",
            "text/plain": [
              "<Figure size 432x288 with 1 Axes>"
            ]
          },
          "metadata": {
            "tags": [],
            "needs_background": "light"
          }
        }
      ]
    },
    {
      "cell_type": "markdown",
      "metadata": {
        "id": "D93RCUbbwfSS",
        "colab_type": "text"
      },
      "source": [
        "#**THANK YOU FOR VIEWING MY PROJECT**"
      ]
    }
  ]
}
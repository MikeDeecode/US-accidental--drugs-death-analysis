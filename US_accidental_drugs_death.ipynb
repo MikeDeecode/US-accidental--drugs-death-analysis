{
  "nbformat": 4,
  "nbformat_minor": 0,
  "metadata": {
    "colab": {
      "name": "US-accidental-drugs-death.ipynb",
      "provenance": [],
      "collapsed_sections": [],
      "authorship_tag": "ABX9TyOzM5cGYR58tssHO0V+MR7E",
      "include_colab_link": true
    },
    "kernelspec": {
      "name": "python3",
      "display_name": "Python 3"
    }
  },
  "cells": [
    {
      "cell_type": "markdown",
      "metadata": {
        "id": "view-in-github",
        "colab_type": "text"
      },
      "source": [
        "<a href=\"https://colab.research.google.com/github/MikeDeecode/US-accidental--drugs-death-analysis/blob/master/US_accidental_drugs_death.ipynb\" target=\"_parent\"><img src=\"https://colab.research.google.com/assets/colab-badge.svg\" alt=\"Open In Colab\"/></a>"
      ]
    },
    {
      "cell_type": "markdown",
      "metadata": {
        "id": "pXigUeGvC7xf",
        "colab_type": "text"
      },
      "source": [
        "The data set used in this project was obtained from https://www.data.gov/"
      ]
    },
    {
      "cell_type": "markdown",
      "metadata": {
        "id": "2R34gcE4DUKD",
        "colab_type": "text"
      },
      "source": [
        "## **THE DATASET CONTAINS THE DATA OF ACCIDENTAL DRUGS RELATED DEATH IN THE US FROM 2012 TO 2016**\n",
        "\n",
        "---\n",
        "\n"
      ]
    },
    {
      "cell_type": "markdown",
      "metadata": {
        "id": "sZ4l9hCC_0q9",
        "colab_type": "text"
      },
      "source": [
        "This project aims aat \n",
        "\n",
        "* Determine how each of the characteristics affected the death toll\n",
        "* Visualising the analysed data\n",
        "* Insigts and observations from the data\n",
        "\n",
        "Stay tuned!!!"
      ]
    },
    {
      "cell_type": "markdown",
      "metadata": {
        "id": "JRUCtH3jDkrL",
        "colab_type": "text"
      },
      "source": [
        "# **EXPLORATORY ANALYSIS**"
      ]
    },
    {
      "cell_type": "code",
      "metadata": {
        "id": "Pt07WfDTWBJ3",
        "colab_type": "code",
        "colab": {}
      },
      "source": [
        "import numpy as np \n",
        "import pandas as pd\n",
        "import matplotlib.pyplot as plt"
      ],
      "execution_count": 0,
      "outputs": []
    },
    {
      "cell_type": "code",
      "metadata": {
        "id": "HHeKf9NrWGJX",
        "colab_type": "code",
        "outputId": "d94eb352-395a-4c52-8c01-789cadf9b538",
        "colab": {
          "base_uri": "https://localhost:8080/",
          "height": 35
        }
      },
      "source": [
        "drugs_death = pd.read_csv(\"/content/Accidental_Drug_Related_Deaths_2012-2018.csv\", index_col = 0)\n",
        "print (\"Success\")"
      ],
      "execution_count": 2,
      "outputs": [
        {
          "output_type": "stream",
          "text": [
            "Success\n"
          ],
          "name": "stdout"
        }
      ]
    },
    {
      "cell_type": "code",
      "metadata": {
        "id": "gtFhVxP3EY3f",
        "colab_type": "code",
        "outputId": "d67b3014-5c75-4538-871d-3b977ba738e0",
        "colab": {
          "base_uri": "https://localhost:8080/",
          "height": 35
        }
      },
      "source": [
        "drugs_death.shape"
      ],
      "execution_count": 3,
      "outputs": [
        {
          "output_type": "execute_result",
          "data": {
            "text/plain": [
              "(5105, 40)"
            ]
          },
          "metadata": {
            "tags": []
          },
          "execution_count": 3
        }
      ]
    },
    {
      "cell_type": "markdown",
      "metadata": {
        "id": "uyDo-na6Ejwg",
        "colab_type": "text"
      },
      "source": [
        "* There are 5105 rows and 40 columns in the dataset "
      ]
    },
    {
      "cell_type": "markdown",
      "metadata": {
        "id": "rjY8uBfv-qVf",
        "colab_type": "text"
      },
      "source": [
        "**DESCRIPTION OF THE DATASET**"
      ]
    },
    {
      "cell_type": "markdown",
      "metadata": {
        "id": "Zv1vcKwp-vIe",
        "colab_type": "text"
      },
      "source": [
        "There are 5105 rowa and 40 columns in the dataset.  Below are the descriptions of the columns \n",
        "\n",
        "* **ID** - citizen's identification number \n",
        "* **Date** - The date authorities knew about the death\n",
        "* **Dateatype** - If the date the individual died was the reported date or the day of death\n",
        "* **Age** - Age of the individual\n",
        "* **Sex** - Gender of the individual\n",
        "* **Race** - The race of the individual\n",
        "* **ResidenceCity** - The city the individual lived in \n",
        "* **ResidenceCounty** - Individual's county\n",
        "* **ResidenceState** - Individual's state \n",
        "* **DeathCity** - city where the individual died \n",
        "* **DeathCounty** - County where the individual died \n",
        "* **Location** - specific place where the individual died\n",
        "* **LocationifOther**\n",
        "* **DescriptionofInjury** - Description of injury that killed the individual\n",
        "* **InjuryPlace** - where the injury was sustained\n",
        "* **InjuryCity** - city where the injury was sustained \n",
        "* **InjuryCounty** - County where the injury was sustained \n",
        "* **InjuryState** - State where the injuty was sustained \n",
        "* **COD** - Cause of death\n",
        "* **OtherSignifican**\n",
        "* **MannerofDeath** - how the individual died \n",
        "* **DeathCityGeo** - Geogrgraphical location of where the individual died \n",
        "* **ResidenceCityGeo** - geographical location of individual's residence city \n",
        "* **InjuryCityGeo** - geographical location of where the individual sustained injury\n",
        "\n",
        "Other columns in the dataset are the substances presnt in the blood or urine of the individuals after the autopsy report"
      ]
    },
    {
      "cell_type": "code",
      "metadata": {
        "id": "yM1tZgHsEVTr",
        "colab_type": "code",
        "outputId": "7dc67a78-7b67-4248-bf7b-14745d0786c3",
        "colab": {
          "base_uri": "https://localhost:8080/",
          "height": 414
        }
      },
      "source": [
        "drugs_death.head()"
      ],
      "execution_count": 4,
      "outputs": [
        {
          "output_type": "execute_result",
          "data": {
            "text/html": [
              "<div>\n",
              "<style scoped>\n",
              "    .dataframe tbody tr th:only-of-type {\n",
              "        vertical-align: middle;\n",
              "    }\n",
              "\n",
              "    .dataframe tbody tr th {\n",
              "        vertical-align: top;\n",
              "    }\n",
              "\n",
              "    .dataframe thead th {\n",
              "        text-align: right;\n",
              "    }\n",
              "</style>\n",
              "<table border=\"1\" class=\"dataframe\">\n",
              "  <thead>\n",
              "    <tr style=\"text-align: right;\">\n",
              "      <th></th>\n",
              "      <th>Date</th>\n",
              "      <th>DateType</th>\n",
              "      <th>Age</th>\n",
              "      <th>Sex</th>\n",
              "      <th>Race</th>\n",
              "      <th>ResidenceCity</th>\n",
              "      <th>ResidenceCounty</th>\n",
              "      <th>ResidenceState</th>\n",
              "      <th>DeathCity</th>\n",
              "      <th>DeathCounty</th>\n",
              "      <th>Location</th>\n",
              "      <th>LocationifOther</th>\n",
              "      <th>DescriptionofInjury</th>\n",
              "      <th>InjuryPlace</th>\n",
              "      <th>InjuryCity</th>\n",
              "      <th>InjuryCounty</th>\n",
              "      <th>InjuryState</th>\n",
              "      <th>COD</th>\n",
              "      <th>OtherSignifican</th>\n",
              "      <th>Heroin</th>\n",
              "      <th>Cocaine</th>\n",
              "      <th>Fentanyl</th>\n",
              "      <th>FentanylAnalogue</th>\n",
              "      <th>Oxycodone</th>\n",
              "      <th>Oxymorphone</th>\n",
              "      <th>Ethanol</th>\n",
              "      <th>Hydrocodone</th>\n",
              "      <th>Benzodiazepine</th>\n",
              "      <th>Methadone</th>\n",
              "      <th>Amphet</th>\n",
              "      <th>Tramad</th>\n",
              "      <th>Morphine_NotHeroin</th>\n",
              "      <th>Hydromorphone</th>\n",
              "      <th>Other</th>\n",
              "      <th>OpiateNOS</th>\n",
              "      <th>AnyOpioid</th>\n",
              "      <th>MannerofDeath</th>\n",
              "      <th>DeathCityGeo</th>\n",
              "      <th>ResidenceCityGeo</th>\n",
              "      <th>InjuryCityGeo</th>\n",
              "    </tr>\n",
              "    <tr>\n",
              "      <th>ID</th>\n",
              "      <th></th>\n",
              "      <th></th>\n",
              "      <th></th>\n",
              "      <th></th>\n",
              "      <th></th>\n",
              "      <th></th>\n",
              "      <th></th>\n",
              "      <th></th>\n",
              "      <th></th>\n",
              "      <th></th>\n",
              "      <th></th>\n",
              "      <th></th>\n",
              "      <th></th>\n",
              "      <th></th>\n",
              "      <th></th>\n",
              "      <th></th>\n",
              "      <th></th>\n",
              "      <th></th>\n",
              "      <th></th>\n",
              "      <th></th>\n",
              "      <th></th>\n",
              "      <th></th>\n",
              "      <th></th>\n",
              "      <th></th>\n",
              "      <th></th>\n",
              "      <th></th>\n",
              "      <th></th>\n",
              "      <th></th>\n",
              "      <th></th>\n",
              "      <th></th>\n",
              "      <th></th>\n",
              "      <th></th>\n",
              "      <th></th>\n",
              "      <th></th>\n",
              "      <th></th>\n",
              "      <th></th>\n",
              "      <th></th>\n",
              "      <th></th>\n",
              "      <th></th>\n",
              "      <th></th>\n",
              "    </tr>\n",
              "  </thead>\n",
              "  <tbody>\n",
              "    <tr>\n",
              "      <th>14-0273</th>\n",
              "      <td>06/28/2014 12:00:00 AM</td>\n",
              "      <td>DateReported</td>\n",
              "      <td>NaN</td>\n",
              "      <td>NaN</td>\n",
              "      <td>NaN</td>\n",
              "      <td>NaN</td>\n",
              "      <td>NaN</td>\n",
              "      <td>NaN</td>\n",
              "      <td>NaN</td>\n",
              "      <td>NaN</td>\n",
              "      <td>NaN</td>\n",
              "      <td>NaN</td>\n",
              "      <td>substance</td>\n",
              "      <td>NaN</td>\n",
              "      <td>NaN</td>\n",
              "      <td>NaN</td>\n",
              "      <td>NaN</td>\n",
              "      <td>Acute fent, hydrocod, benzodiazepine</td>\n",
              "      <td>NaN</td>\n",
              "      <td>NaN</td>\n",
              "      <td>NaN</td>\n",
              "      <td>Y</td>\n",
              "      <td>NaN</td>\n",
              "      <td>NaN</td>\n",
              "      <td>NaN</td>\n",
              "      <td>NaN</td>\n",
              "      <td>Y</td>\n",
              "      <td>Y</td>\n",
              "      <td>NaN</td>\n",
              "      <td>NaN</td>\n",
              "      <td>NaN</td>\n",
              "      <td>NaN</td>\n",
              "      <td>NaN</td>\n",
              "      <td>NaN</td>\n",
              "      <td>NaN</td>\n",
              "      <td>NaN</td>\n",
              "      <td>Accident</td>\n",
              "      <td>CT\\n(41.575155, -72.738288)</td>\n",
              "      <td>CT\\n(41.575155, -72.738288)</td>\n",
              "      <td>CT\\n(41.575155, -72.738288)</td>\n",
              "    </tr>\n",
              "    <tr>\n",
              "      <th>13-0102</th>\n",
              "      <td>03/21/2013 12:00:00 AM</td>\n",
              "      <td>DateofDeath</td>\n",
              "      <td>48.0</td>\n",
              "      <td>Male</td>\n",
              "      <td>Black</td>\n",
              "      <td>NORWALK</td>\n",
              "      <td>NaN</td>\n",
              "      <td>NaN</td>\n",
              "      <td>NORWALK</td>\n",
              "      <td>FAIRFIELD</td>\n",
              "      <td>Hospital</td>\n",
              "      <td>NaN</td>\n",
              "      <td>NaN</td>\n",
              "      <td>NaN</td>\n",
              "      <td>NaN</td>\n",
              "      <td>NaN</td>\n",
              "      <td>NaN</td>\n",
              "      <td>Cocaine Intoxication</td>\n",
              "      <td>NaN</td>\n",
              "      <td>NaN</td>\n",
              "      <td>Y</td>\n",
              "      <td>NaN</td>\n",
              "      <td>NaN</td>\n",
              "      <td>NaN</td>\n",
              "      <td>NaN</td>\n",
              "      <td>NaN</td>\n",
              "      <td>NaN</td>\n",
              "      <td>NaN</td>\n",
              "      <td>NaN</td>\n",
              "      <td>NaN</td>\n",
              "      <td>NaN</td>\n",
              "      <td>NaN</td>\n",
              "      <td>NaN</td>\n",
              "      <td>NaN</td>\n",
              "      <td>NaN</td>\n",
              "      <td>NaN</td>\n",
              "      <td>Accident</td>\n",
              "      <td>Norwalk, CT\\n(41.11805, -73.412906)</td>\n",
              "      <td>NORWALK, CT\\n(41.11805, -73.412906)</td>\n",
              "      <td>CT\\n(41.575155, -72.738288)</td>\n",
              "    </tr>\n",
              "    <tr>\n",
              "      <th>16-0165</th>\n",
              "      <td>03/13/2016 12:00:00 AM</td>\n",
              "      <td>DateofDeath</td>\n",
              "      <td>30.0</td>\n",
              "      <td>Female</td>\n",
              "      <td>White</td>\n",
              "      <td>SANDY HOOK</td>\n",
              "      <td>FAIRFIELD</td>\n",
              "      <td>CT</td>\n",
              "      <td>DANBURY</td>\n",
              "      <td>NaN</td>\n",
              "      <td>Hospital</td>\n",
              "      <td>NaN</td>\n",
              "      <td>Substance Abuse</td>\n",
              "      <td>Unknown</td>\n",
              "      <td>UNKNOWN</td>\n",
              "      <td>NaN</td>\n",
              "      <td>NaN</td>\n",
              "      <td>Acute Heroin and Cocaine Intoxication</td>\n",
              "      <td>NaN</td>\n",
              "      <td>Y</td>\n",
              "      <td>Y</td>\n",
              "      <td>NaN</td>\n",
              "      <td>NaN</td>\n",
              "      <td>NaN</td>\n",
              "      <td>NaN</td>\n",
              "      <td>NaN</td>\n",
              "      <td>NaN</td>\n",
              "      <td>NaN</td>\n",
              "      <td>NaN</td>\n",
              "      <td>NaN</td>\n",
              "      <td>NaN</td>\n",
              "      <td>NaN</td>\n",
              "      <td>NaN</td>\n",
              "      <td>NaN</td>\n",
              "      <td>NaN</td>\n",
              "      <td>Y</td>\n",
              "      <td>Accident</td>\n",
              "      <td>Danbury, CT\\n(41.393666, -73.451539)</td>\n",
              "      <td>SANDY HOOK, CT\\n(41.419998, -73.282501)</td>\n",
              "      <td>NaN</td>\n",
              "    </tr>\n",
              "    <tr>\n",
              "      <th>16-0208</th>\n",
              "      <td>03/31/2016 12:00:00 AM</td>\n",
              "      <td>DateofDeath</td>\n",
              "      <td>23.0</td>\n",
              "      <td>Male</td>\n",
              "      <td>White</td>\n",
              "      <td>RYE</td>\n",
              "      <td>WESTCHESTER</td>\n",
              "      <td>NY</td>\n",
              "      <td>GREENWICH</td>\n",
              "      <td>NaN</td>\n",
              "      <td>Hospital</td>\n",
              "      <td>NaN</td>\n",
              "      <td>substance abuse</td>\n",
              "      <td>Residence</td>\n",
              "      <td>RYE</td>\n",
              "      <td>NaN</td>\n",
              "      <td>NaN</td>\n",
              "      <td>Acute Fentanyl and Morphine Intoxication</td>\n",
              "      <td>NaN</td>\n",
              "      <td>Y</td>\n",
              "      <td>NaN</td>\n",
              "      <td>Y</td>\n",
              "      <td>NaN</td>\n",
              "      <td>NaN</td>\n",
              "      <td>NaN</td>\n",
              "      <td>NaN</td>\n",
              "      <td>NaN</td>\n",
              "      <td>NaN</td>\n",
              "      <td>NaN</td>\n",
              "      <td>NaN</td>\n",
              "      <td>NaN</td>\n",
              "      <td>NaN</td>\n",
              "      <td>NaN</td>\n",
              "      <td>NaN</td>\n",
              "      <td>NaN</td>\n",
              "      <td>Y</td>\n",
              "      <td>Accident</td>\n",
              "      <td>Greenwich, CT\\n(41.026526, -73.628549)</td>\n",
              "      <td>NaN</td>\n",
              "      <td>NaN</td>\n",
              "    </tr>\n",
              "    <tr>\n",
              "      <th>13-0052</th>\n",
              "      <td>02/13/2013 12:00:00 AM</td>\n",
              "      <td>DateofDeath</td>\n",
              "      <td>22.0</td>\n",
              "      <td>Male</td>\n",
              "      <td>Asian, Other</td>\n",
              "      <td>FLUSHING</td>\n",
              "      <td>QUEENS</td>\n",
              "      <td>NaN</td>\n",
              "      <td>GREENWICH</td>\n",
              "      <td>FAIRFIELD</td>\n",
              "      <td>Hospital</td>\n",
              "      <td>NaN</td>\n",
              "      <td>Transdermal Absorption</td>\n",
              "      <td>Other</td>\n",
              "      <td>NaN</td>\n",
              "      <td>NaN</td>\n",
              "      <td>NaN</td>\n",
              "      <td>Fentanyl Intoxication</td>\n",
              "      <td>NaN</td>\n",
              "      <td>NaN</td>\n",
              "      <td>NaN</td>\n",
              "      <td>Y</td>\n",
              "      <td>NaN</td>\n",
              "      <td>NaN</td>\n",
              "      <td>NaN</td>\n",
              "      <td>NaN</td>\n",
              "      <td>NaN</td>\n",
              "      <td>NaN</td>\n",
              "      <td>NaN</td>\n",
              "      <td>NaN</td>\n",
              "      <td>NaN</td>\n",
              "      <td>NaN</td>\n",
              "      <td>NaN</td>\n",
              "      <td>NaN</td>\n",
              "      <td>NaN</td>\n",
              "      <td>NaN</td>\n",
              "      <td>Accident</td>\n",
              "      <td>Greenwich, CT\\n(41.026526, -73.628549)</td>\n",
              "      <td>NaN</td>\n",
              "      <td>CT\\n(41.575155, -72.738288)</td>\n",
              "    </tr>\n",
              "  </tbody>\n",
              "</table>\n",
              "</div>"
            ],
            "text/plain": [
              "                           Date  ...                InjuryCityGeo\n",
              "ID                               ...                             \n",
              "14-0273  06/28/2014 12:00:00 AM  ...  CT\\n(41.575155, -72.738288)\n",
              "13-0102  03/21/2013 12:00:00 AM  ...  CT\\n(41.575155, -72.738288)\n",
              "16-0165  03/13/2016 12:00:00 AM  ...                          NaN\n",
              "16-0208  03/31/2016 12:00:00 AM  ...                          NaN\n",
              "13-0052  02/13/2013 12:00:00 AM  ...  CT\\n(41.575155, -72.738288)\n",
              "\n",
              "[5 rows x 40 columns]"
            ]
          },
          "metadata": {
            "tags": []
          },
          "execution_count": 4
        }
      ]
    },
    {
      "cell_type": "code",
      "metadata": {
        "id": "RHPbqLF5EXWN",
        "colab_type": "code",
        "outputId": "0fe56ba4-b04a-4d13-e01c-ace85baace3a",
        "colab": {
          "base_uri": "https://localhost:8080/",
          "height": 878
        }
      },
      "source": [
        "drugs_death.info()"
      ],
      "execution_count": 5,
      "outputs": [
        {
          "output_type": "stream",
          "text": [
            "<class 'pandas.core.frame.DataFrame'>\n",
            "Index: 5105 entries, 14-0273 to 16-0637\n",
            "Data columns (total 40 columns):\n",
            " #   Column               Non-Null Count  Dtype  \n",
            "---  ------               --------------  -----  \n",
            " 0   Date                 5103 non-null   object \n",
            " 1   DateType             5103 non-null   object \n",
            " 2   Age                  5102 non-null   float64\n",
            " 3   Sex                  5099 non-null   object \n",
            " 4   Race                 5092 non-null   object \n",
            " 5   ResidenceCity        4932 non-null   object \n",
            " 6   ResidenceCounty      4308 non-null   object \n",
            " 7   ResidenceState       3556 non-null   object \n",
            " 8   DeathCity            5100 non-null   object \n",
            " 9   DeathCounty          4005 non-null   object \n",
            " 10  Location             5081 non-null   object \n",
            " 11  LocationifOther      590 non-null    object \n",
            " 12  DescriptionofInjury  4325 non-null   object \n",
            " 13  InjuryPlace          5039 non-null   object \n",
            " 14  InjuryCity           3349 non-null   object \n",
            " 15  InjuryCounty         2364 non-null   object \n",
            " 16  InjuryState          1424 non-null   object \n",
            " 17  COD                  5105 non-null   object \n",
            " 18  OtherSignifican      169 non-null    object \n",
            " 19  Heroin               2529 non-null   object \n",
            " 20  Cocaine              1521 non-null   object \n",
            " 21  Fentanyl             2232 non-null   object \n",
            " 22  FentanylAnalogue     389 non-null    object \n",
            " 23  Oxycodone            607 non-null    object \n",
            " 24  Oxymorphone          108 non-null    object \n",
            " 25  Ethanol              1247 non-null   object \n",
            " 26  Hydrocodone          118 non-null    object \n",
            " 27  Benzodiazepine       1343 non-null   object \n",
            " 28  Methadone            474 non-null    object \n",
            " 29  Amphet               159 non-null    object \n",
            " 30  Tramad               130 non-null    object \n",
            " 31  Morphine_NotHeroin   42 non-null     object \n",
            " 32  Hydromorphone        25 non-null     object \n",
            " 33  Other                435 non-null    object \n",
            " 34  OpiateNOS            88 non-null     object \n",
            " 35  AnyOpioid            2466 non-null   object \n",
            " 36  MannerofDeath        5095 non-null   object \n",
            " 37  DeathCityGeo         5105 non-null   object \n",
            " 38  ResidenceCityGeo     5012 non-null   object \n",
            " 39  InjuryCityGeo        5027 non-null   object \n",
            "dtypes: float64(1), object(39)\n",
            "memory usage: 1.6+ MB\n"
          ],
          "name": "stdout"
        }
      ]
    },
    {
      "cell_type": "markdown",
      "metadata": {
        "id": "XXgo-WvEe1pJ",
        "colab_type": "text"
      },
      "source": [
        "* As seen above the dataset contains a lot of missing values "
      ]
    },
    {
      "cell_type": "markdown",
      "metadata": {
        "id": "9eYH6ewde7MS",
        "colab_type": "text"
      },
      "source": [
        "Here I removed the columns I do not want to perfrom analysis on "
      ]
    },
    {
      "cell_type": "code",
      "metadata": {
        "id": "4yXzgbmMGQvp",
        "colab_type": "code",
        "colab": {}
      },
      "source": [
        "drugs_death.drop(columns = ['Heroin', 'Cocaine', 'Fentanyl', 'FentanylAnalogue', 'Oxycodone', 'Oxymorphone', 'Ethanol', 'Hydrocodone',\n",
        "                            'Benzodiazepine', 'Methadone', 'Amphet', 'Tramad', 'Morphine_NotHeroin', 'Hydromorphone', \n",
        "                            'Other', 'OpiateNOS', 'AnyOpioid', 'OtherSignifican', 'DeathCityGeo', \n",
        "                            'ResidenceCityGeo', 'InjuryCityGeo', 'LocationifOther'], inplace = True)"
      ],
      "execution_count": 0,
      "outputs": []
    },
    {
      "cell_type": "markdown",
      "metadata": {
        "id": "Jer5JRchfDIl",
        "colab_type": "text"
      },
      "source": [
        "Below are the remaining columns in the data"
      ]
    },
    {
      "cell_type": "code",
      "metadata": {
        "id": "Tz_aZA5yI6s0",
        "colab_type": "code",
        "outputId": "2abdf8be-723a-49a3-c7a0-31d0e0002525",
        "colab": {
          "base_uri": "https://localhost:8080/",
          "height": 414
        }
      },
      "source": [
        "drugs_death.head()"
      ],
      "execution_count": 7,
      "outputs": [
        {
          "output_type": "execute_result",
          "data": {
            "text/html": [
              "<div>\n",
              "<style scoped>\n",
              "    .dataframe tbody tr th:only-of-type {\n",
              "        vertical-align: middle;\n",
              "    }\n",
              "\n",
              "    .dataframe tbody tr th {\n",
              "        vertical-align: top;\n",
              "    }\n",
              "\n",
              "    .dataframe thead th {\n",
              "        text-align: right;\n",
              "    }\n",
              "</style>\n",
              "<table border=\"1\" class=\"dataframe\">\n",
              "  <thead>\n",
              "    <tr style=\"text-align: right;\">\n",
              "      <th></th>\n",
              "      <th>Date</th>\n",
              "      <th>DateType</th>\n",
              "      <th>Age</th>\n",
              "      <th>Sex</th>\n",
              "      <th>Race</th>\n",
              "      <th>ResidenceCity</th>\n",
              "      <th>ResidenceCounty</th>\n",
              "      <th>ResidenceState</th>\n",
              "      <th>DeathCity</th>\n",
              "      <th>DeathCounty</th>\n",
              "      <th>Location</th>\n",
              "      <th>DescriptionofInjury</th>\n",
              "      <th>InjuryPlace</th>\n",
              "      <th>InjuryCity</th>\n",
              "      <th>InjuryCounty</th>\n",
              "      <th>InjuryState</th>\n",
              "      <th>COD</th>\n",
              "      <th>MannerofDeath</th>\n",
              "    </tr>\n",
              "    <tr>\n",
              "      <th>ID</th>\n",
              "      <th></th>\n",
              "      <th></th>\n",
              "      <th></th>\n",
              "      <th></th>\n",
              "      <th></th>\n",
              "      <th></th>\n",
              "      <th></th>\n",
              "      <th></th>\n",
              "      <th></th>\n",
              "      <th></th>\n",
              "      <th></th>\n",
              "      <th></th>\n",
              "      <th></th>\n",
              "      <th></th>\n",
              "      <th></th>\n",
              "      <th></th>\n",
              "      <th></th>\n",
              "      <th></th>\n",
              "    </tr>\n",
              "  </thead>\n",
              "  <tbody>\n",
              "    <tr>\n",
              "      <th>14-0273</th>\n",
              "      <td>06/28/2014 12:00:00 AM</td>\n",
              "      <td>DateReported</td>\n",
              "      <td>NaN</td>\n",
              "      <td>NaN</td>\n",
              "      <td>NaN</td>\n",
              "      <td>NaN</td>\n",
              "      <td>NaN</td>\n",
              "      <td>NaN</td>\n",
              "      <td>NaN</td>\n",
              "      <td>NaN</td>\n",
              "      <td>NaN</td>\n",
              "      <td>substance</td>\n",
              "      <td>NaN</td>\n",
              "      <td>NaN</td>\n",
              "      <td>NaN</td>\n",
              "      <td>NaN</td>\n",
              "      <td>Acute fent, hydrocod, benzodiazepine</td>\n",
              "      <td>Accident</td>\n",
              "    </tr>\n",
              "    <tr>\n",
              "      <th>13-0102</th>\n",
              "      <td>03/21/2013 12:00:00 AM</td>\n",
              "      <td>DateofDeath</td>\n",
              "      <td>48.0</td>\n",
              "      <td>Male</td>\n",
              "      <td>Black</td>\n",
              "      <td>NORWALK</td>\n",
              "      <td>NaN</td>\n",
              "      <td>NaN</td>\n",
              "      <td>NORWALK</td>\n",
              "      <td>FAIRFIELD</td>\n",
              "      <td>Hospital</td>\n",
              "      <td>NaN</td>\n",
              "      <td>NaN</td>\n",
              "      <td>NaN</td>\n",
              "      <td>NaN</td>\n",
              "      <td>NaN</td>\n",
              "      <td>Cocaine Intoxication</td>\n",
              "      <td>Accident</td>\n",
              "    </tr>\n",
              "    <tr>\n",
              "      <th>16-0165</th>\n",
              "      <td>03/13/2016 12:00:00 AM</td>\n",
              "      <td>DateofDeath</td>\n",
              "      <td>30.0</td>\n",
              "      <td>Female</td>\n",
              "      <td>White</td>\n",
              "      <td>SANDY HOOK</td>\n",
              "      <td>FAIRFIELD</td>\n",
              "      <td>CT</td>\n",
              "      <td>DANBURY</td>\n",
              "      <td>NaN</td>\n",
              "      <td>Hospital</td>\n",
              "      <td>Substance Abuse</td>\n",
              "      <td>Unknown</td>\n",
              "      <td>UNKNOWN</td>\n",
              "      <td>NaN</td>\n",
              "      <td>NaN</td>\n",
              "      <td>Acute Heroin and Cocaine Intoxication</td>\n",
              "      <td>Accident</td>\n",
              "    </tr>\n",
              "    <tr>\n",
              "      <th>16-0208</th>\n",
              "      <td>03/31/2016 12:00:00 AM</td>\n",
              "      <td>DateofDeath</td>\n",
              "      <td>23.0</td>\n",
              "      <td>Male</td>\n",
              "      <td>White</td>\n",
              "      <td>RYE</td>\n",
              "      <td>WESTCHESTER</td>\n",
              "      <td>NY</td>\n",
              "      <td>GREENWICH</td>\n",
              "      <td>NaN</td>\n",
              "      <td>Hospital</td>\n",
              "      <td>substance abuse</td>\n",
              "      <td>Residence</td>\n",
              "      <td>RYE</td>\n",
              "      <td>NaN</td>\n",
              "      <td>NaN</td>\n",
              "      <td>Acute Fentanyl and Morphine Intoxication</td>\n",
              "      <td>Accident</td>\n",
              "    </tr>\n",
              "    <tr>\n",
              "      <th>13-0052</th>\n",
              "      <td>02/13/2013 12:00:00 AM</td>\n",
              "      <td>DateofDeath</td>\n",
              "      <td>22.0</td>\n",
              "      <td>Male</td>\n",
              "      <td>Asian, Other</td>\n",
              "      <td>FLUSHING</td>\n",
              "      <td>QUEENS</td>\n",
              "      <td>NaN</td>\n",
              "      <td>GREENWICH</td>\n",
              "      <td>FAIRFIELD</td>\n",
              "      <td>Hospital</td>\n",
              "      <td>Transdermal Absorption</td>\n",
              "      <td>Other</td>\n",
              "      <td>NaN</td>\n",
              "      <td>NaN</td>\n",
              "      <td>NaN</td>\n",
              "      <td>Fentanyl Intoxication</td>\n",
              "      <td>Accident</td>\n",
              "    </tr>\n",
              "  </tbody>\n",
              "</table>\n",
              "</div>"
            ],
            "text/plain": [
              "                           Date  ... MannerofDeath\n",
              "ID                               ...              \n",
              "14-0273  06/28/2014 12:00:00 AM  ...      Accident\n",
              "13-0102  03/21/2013 12:00:00 AM  ...      Accident\n",
              "16-0165  03/13/2016 12:00:00 AM  ...      Accident\n",
              "16-0208  03/31/2016 12:00:00 AM  ...      Accident\n",
              "13-0052  02/13/2013 12:00:00 AM  ...      Accident\n",
              "\n",
              "[5 rows x 18 columns]"
            ]
          },
          "metadata": {
            "tags": []
          },
          "execution_count": 7
        }
      ]
    },
    {
      "cell_type": "markdown",
      "metadata": {
        "id": "N1poaKF-fJJF",
        "colab_type": "text"
      },
      "source": [
        "###DATE TYPE"
      ]
    },
    {
      "cell_type": "markdown",
      "metadata": {
        "id": "jt5nQD9XfPl9",
        "colab_type": "text"
      },
      "source": [
        "**PERCENTAGE OF DATE OF DEATH TO DATE DEATH WAS REPORTED**"
      ]
    },
    {
      "cell_type": "code",
      "metadata": {
        "id": "JsF1S88mJjKr",
        "colab_type": "code",
        "outputId": "464daa13-049a-4f01-f38e-742dd044d513",
        "colab": {
          "base_uri": "https://localhost:8080/",
          "height": 72
        }
      },
      "source": [
        "drugs_death['DateType'].value_counts()"
      ],
      "execution_count": 8,
      "outputs": [
        {
          "output_type": "execute_result",
          "data": {
            "text/plain": [
              "DateofDeath     2822\n",
              "DateReported    2281\n",
              "Name: DateType, dtype: int64"
            ]
          },
          "metadata": {
            "tags": []
          },
          "execution_count": 8
        }
      ]
    },
    {
      "cell_type": "markdown",
      "metadata": {
        "id": "0pc7OTYIh2sG",
        "colab_type": "text"
      },
      "source": [
        "* 2822 deaths were confirmed by the officials \n",
        "* 2281 deaths were reported"
      ]
    },
    {
      "cell_type": "code",
      "metadata": {
        "id": "whzF64fegLor",
        "colab_type": "code",
        "colab": {
          "base_uri": "https://localhost:8080/",
          "height": 264
        },
        "outputId": "1a60b04f-aece-41d2-8b8f-74f173d9665b"
      },
      "source": [
        "labels = 'Date of death', 'Date Reported'\n",
        "size = [2822, 2281]\n",
        "explode = [0, 0.1]\n",
        "\n",
        "fig1, ax1 = plt.subplots()\n",
        "ax1.pie(size, labels = labels, explode = explode, autopct = '%1.1f%%', startangle = 90)\n",
        "ax1.axis('equal')\n",
        "plt.title(\"PIE CHART SHOWING THE PERCENTAGE OF DATE OF DEATH TO DATE REPORTED\")\n",
        "plt.show()"
      ],
      "execution_count": 20,
      "outputs": [
        {
          "output_type": "display_data",
          "data": {
            "image/png": "[encoded data removed]",
            "text/plain": [
              "<Figure size 432x288 with 1 Axes>"
            ]
          },
          "metadata": {
            "tags": []
          }
        }
      ]
    },
    {
      "cell_type": "markdown",
      "metadata": {
        "id": "6pnc_AgziRgh",
        "colab_type": "text"
      },
      "source": [
        "* 55.3 percent of the deaths were confirmed by the officials\n",
        "* 44.7 percent of the deaths were reported to the authorities"
      ]
    },
    {
      "cell_type": "markdown",
      "metadata": {
        "id": "7lxHtPGpiiiB",
        "colab_type": "text"
      },
      "source": [
        "###SEX"
      ]
    },
    {
      "cell_type": "markdown",
      "metadata": {
        "id": "Nj5AYGh3ik4W",
        "colab_type": "text"
      },
      "source": [
        "**NUMBER OF PEOPLE THAT DIED FROM DRUGS BY GENDER**"
      ]
    },
    {
      "cell_type": "code",
      "metadata": {
        "id": "z2a163ooM_3N",
        "colab_type": "code",
        "outputId": "9eae50a3-e0ac-4f37-87e3-9e3ac666c1e8",
        "colab": {
          "base_uri": "https://localhost:8080/",
          "height": 90
        }
      },
      "source": [
        "drugs_death['Sex'].value_counts()"
      ],
      "execution_count": 9,
      "outputs": [
        {
          "output_type": "execute_result",
          "data": {
            "text/plain": [
              "Male       3773\n",
              "Female     1325\n",
              "Unknown       1\n",
              "Name: Sex, dtype: int64"
            ]
          },
          "metadata": {
            "tags": []
          },
          "execution_count": 9
        }
      ]
    },
    {
      "cell_type": "markdown",
      "metadata": {
        "id": "dAwbVZzwi0Qt",
        "colab_type": "text"
      },
      "source": [
        "* 3773 "
      ]
    },
    {
      "cell_type": "code",
      "metadata": {
        "id": "QojcQNxNNIqb",
        "colab_type": "code",
        "outputId": "580c882b-9c28-43e3-d19f-6f5f95243409",
        "colab": {
          "base_uri": "https://localhost:8080/",
          "height": 237
        }
      },
      "source": [
        "drugs_death['Race'].value_counts()"
      ],
      "execution_count": 10,
      "outputs": [
        {
          "output_type": "execute_result",
          "data": {
            "text/plain": [
              "White                     4004\n",
              "Hispanic, White            561\n",
              "Black                      433\n",
              "Hispanic, Black             24\n",
              "Unknown                     23\n",
              "Asian, Other                18\n",
              "Asian Indian                14\n",
              "Other                       11\n",
              "Chinese                      2\n",
              "Native American, Other       1\n",
              "Hawaiian                     1\n",
              "Name: Race, dtype: int64"
            ]
          },
          "metadata": {
            "tags": []
          },
          "execution_count": 10
        }
      ]
    },
    {
      "cell_type": "code",
      "metadata": {
        "id": "y2HDee5LNa4B",
        "colab_type": "code",
        "outputId": "fc5462c5-d441-4b62-deaa-ced3cbc79c83",
        "colab": {
          "base_uri": "https://localhost:8080/",
          "height": 145
        }
      },
      "source": [
        "drugs_death['Location'].value_counts()"
      ],
      "execution_count": 11,
      "outputs": [
        {
          "output_type": "execute_result",
          "data": {
            "text/plain": [
              "Residence            2677\n",
              "Hospital             1626\n",
              "Other                 773\n",
              "Convalescent Home       3\n",
              "Hospice                 1\n",
              "Nursing Home            1\n",
              "Name: Location, dtype: int64"
            ]
          },
          "metadata": {
            "tags": []
          },
          "execution_count": 11
        }
      ]
    },
    {
      "cell_type": "code",
      "metadata": {
        "id": "5Cf_c4DhNzj5",
        "colab_type": "code",
        "outputId": "44359b91-acf7-4838-e1a6-5217cdafa031",
        "colab": {
          "base_uri": "https://localhost:8080/",
          "height": 127
        }
      },
      "source": [
        "drugs_death['MannerofDeath'].value_counts()"
      ],
      "execution_count": 12,
      "outputs": [
        {
          "output_type": "execute_result",
          "data": {
            "text/plain": [
              "Accident    5066\n",
              "Pending       14\n",
              "accident      13\n",
              "Natural        1\n",
              "ACCIDENT       1\n",
              "Name: MannerofDeath, dtype: int64"
            ]
          },
          "metadata": {
            "tags": []
          },
          "execution_count": 12
        }
      ]
    },
    {
      "cell_type": "code",
      "metadata": {
        "id": "7A7n0qWKOSrj",
        "colab_type": "code",
        "colab": {}
      },
      "source": [
        "drugs_death['MannerofDeath'].replace(to_replace = 'ACCIDENT', value = 'Accident', inplace = True)\n",
        "drugs_death['MannerofDeath'].replace(to_replace = 'accident', value = 'Accident', inplace = True)\n"
      ],
      "execution_count": 0,
      "outputs": []
    },
    {
      "cell_type": "code",
      "metadata": {
        "id": "UrCiX_LVO9lH",
        "colab_type": "code",
        "outputId": "24dc6117-5bc0-45d4-94d2-bade1e93d976",
        "colab": {
          "base_uri": "https://localhost:8080/",
          "height": 90
        }
      },
      "source": [
        "drugs_death['MannerofDeath'].value_counts()"
      ],
      "execution_count": 14,
      "outputs": [
        {
          "output_type": "execute_result",
          "data": {
            "text/plain": [
              "Accident    5080\n",
              "Pending       14\n",
              "Natural        1\n",
              "Name: MannerofDeath, dtype: int64"
            ]
          },
          "metadata": {
            "tags": []
          },
          "execution_count": 14
        }
      ]
    },
    {
      "cell_type": "code",
      "metadata": {
        "id": "J53e92gmPJ5Y",
        "colab_type": "code",
        "colab": {}
      },
      "source": [
        ""
      ],
      "execution_count": 0,
      "outputs": []
    }
  ]
}
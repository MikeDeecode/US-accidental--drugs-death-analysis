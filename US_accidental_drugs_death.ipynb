{
  "nbformat": 4,
  "nbformat_minor": 0,
  "metadata": {
    "colab": {
      "name": "US-accidental-drugs-death.ipynb",
      "provenance": [],
      "collapsed_sections": [],
      "authorship_tag": "ABX9TyOGp8OfXQATv5tCEJbNv2gu",
      "include_colab_link": true
    },
    "kernelspec": {
      "name": "python3",
      "display_name": "Python 3"
    }
  },
  "cells": [
    {
      "cell_type": "markdown",
      "metadata": {
        "id": "view-in-github",
        "colab_type": "text"
      },
      "source": [
        "<a href=\"https://colab.research.google.com/github/MikeDeecode/US-accidental--drugs-death-analysis/blob/master/US_accidental_drugs_death.ipynb\" target=\"_parent\"><img src=\"https://colab.research.google.com/assets/colab-badge.svg\" alt=\"Open In Colab\"/></a>"
      ]
    },
    {
      "cell_type": "markdown",
      "metadata": {
        "id": "pXigUeGvC7xf",
        "colab_type": "text"
      },
      "source": [
        "The data set used in this project was obtained from https://www.data.gov/"
      ]
    },
    {
      "cell_type": "markdown",
      "metadata": {
        "id": "2R34gcE4DUKD",
        "colab_type": "text"
      },
      "source": [
        "## **THE DATASET CONTAINS THE DATA OF ACCIDENTAL DRUGS RELATED DEATH IN THE US FROM 2012 TO 2016**\n",
        "\n",
        "---\n",
        "\n"
      ]
    },
    {
      "cell_type": "markdown",
      "metadata": {
        "id": "M9h6WUTuDduf",
        "colab_type": "text"
      },
      "source": [
        "I analysed the data to get more insights "
      ]
    },
    {
      "cell_type": "markdown",
      "metadata": {
        "id": "JRUCtH3jDkrL",
        "colab_type": "text"
      },
      "source": [
        "# **DATA CLEANING**"
      ]
    },
    {
      "cell_type": "code",
      "metadata": {
        "id": "Pt07WfDTWBJ3",
        "colab_type": "code",
        "colab": {}
      },
      "source": [
        "import numpy as np \n",
        "import pandas as pd\n",
        "import matplotlib.pyplot as plt"
      ],
      "execution_count": 0,
      "outputs": []
    },
    {
      "cell_type": "markdown",
      "metadata": {
        "id": "lVicbrJ2Dpae",
        "colab_type": "text"
      },
      "source": [
        "Here i loaded the dataset into my notebook using the ID column as my index column"
      ]
    },
    {
      "cell_type": "code",
      "metadata": {
        "id": "HHeKf9NrWGJX",
        "colab_type": "code",
        "outputId": "812a8d7a-320e-4f08-e199-3e8870006632",
        "colab": {
          "base_uri": "https://localhost:8080/",
          "height": 34
        }
      },
      "source": [
        "death_from_drugs = pd.read_csv(\"/content/Accidental_Drug_Related_Deaths_2012-2018.csv\", index_col = 0)\n",
        "print (\"Data loaded successfully\")"
      ],
      "execution_count": 28,
      "outputs": [
        {
          "output_type": "stream",
          "text": [
            "Data loaded successfully\n"
          ],
          "name": "stdout"
        }
      ]
    },
    {
      "cell_type": "markdown",
      "metadata": {
        "id": "YkGE3xjmD1Mc",
        "colab_type": "text"
      },
      "source": [
        "Viewing the dataset "
      ]
    },
    {
      "cell_type": "code",
      "metadata": {
        "id": "DzJuEAZnWZ72",
        "colab_type": "code",
        "outputId": "86b9a89c-b200-4e0f-a287-0591f8e35f97",
        "colab": {
          "base_uri": "https://localhost:8080/",
          "height": 412
        }
      },
      "source": [
        "death_from_drugs.head()"
      ],
      "execution_count": 29,
      "outputs": [
        {
          "output_type": "execute_result",
          "data": {
            "text/html": [
              "<div>\n",
              "<style scoped>\n",
              "    .dataframe tbody tr th:only-of-type {\n",
              "        vertical-align: middle;\n",
              "    }\n",
              "\n",
              "    .dataframe tbody tr th {\n",
              "        vertical-align: top;\n",
              "    }\n",
              "\n",
              "    .dataframe thead th {\n",
              "        text-align: right;\n",
              "    }\n",
              "</style>\n",
              "<table border=\"1\" class=\"dataframe\">\n",
              "  <thead>\n",
              "    <tr style=\"text-align: right;\">\n",
              "      <th></th>\n",
              "      <th>Date</th>\n",
              "      <th>DateType</th>\n",
              "      <th>Age</th>\n",
              "      <th>Sex</th>\n",
              "      <th>Race</th>\n",
              "      <th>ResidenceCity</th>\n",
              "      <th>ResidenceCounty</th>\n",
              "      <th>ResidenceState</th>\n",
              "      <th>DeathCity</th>\n",
              "      <th>DeathCounty</th>\n",
              "      <th>Location</th>\n",
              "      <th>LocationifOther</th>\n",
              "      <th>DescriptionofInjury</th>\n",
              "      <th>InjuryPlace</th>\n",
              "      <th>InjuryCity</th>\n",
              "      <th>InjuryCounty</th>\n",
              "      <th>InjuryState</th>\n",
              "      <th>COD</th>\n",
              "      <th>OtherSignifican</th>\n",
              "      <th>Heroin</th>\n",
              "      <th>Cocaine</th>\n",
              "      <th>Fentanyl</th>\n",
              "      <th>FentanylAnalogue</th>\n",
              "      <th>Oxycodone</th>\n",
              "      <th>Oxymorphone</th>\n",
              "      <th>Ethanol</th>\n",
              "      <th>Hydrocodone</th>\n",
              "      <th>Benzodiazepine</th>\n",
              "      <th>Methadone</th>\n",
              "      <th>Amphet</th>\n",
              "      <th>Tramad</th>\n",
              "      <th>Morphine_NotHeroin</th>\n",
              "      <th>Hydromorphone</th>\n",
              "      <th>Other</th>\n",
              "      <th>OpiateNOS</th>\n",
              "      <th>AnyOpioid</th>\n",
              "      <th>MannerofDeath</th>\n",
              "      <th>DeathCityGeo</th>\n",
              "      <th>ResidenceCityGeo</th>\n",
              "      <th>InjuryCityGeo</th>\n",
              "    </tr>\n",
              "    <tr>\n",
              "      <th>ID</th>\n",
              "      <th></th>\n",
              "      <th></th>\n",
              "      <th></th>\n",
              "      <th></th>\n",
              "      <th></th>\n",
              "      <th></th>\n",
              "      <th></th>\n",
              "      <th></th>\n",
              "      <th></th>\n",
              "      <th></th>\n",
              "      <th></th>\n",
              "      <th></th>\n",
              "      <th></th>\n",
              "      <th></th>\n",
              "      <th></th>\n",
              "      <th></th>\n",
              "      <th></th>\n",
              "      <th></th>\n",
              "      <th></th>\n",
              "      <th></th>\n",
              "      <th></th>\n",
              "      <th></th>\n",
              "      <th></th>\n",
              "      <th></th>\n",
              "      <th></th>\n",
              "      <th></th>\n",
              "      <th></th>\n",
              "      <th></th>\n",
              "      <th></th>\n",
              "      <th></th>\n",
              "      <th></th>\n",
              "      <th></th>\n",
              "      <th></th>\n",
              "      <th></th>\n",
              "      <th></th>\n",
              "      <th></th>\n",
              "      <th></th>\n",
              "      <th></th>\n",
              "      <th></th>\n",
              "      <th></th>\n",
              "    </tr>\n",
              "  </thead>\n",
              "  <tbody>\n",
              "    <tr>\n",
              "      <th>14-0273</th>\n",
              "      <td>06/28/2014 12:00:00 AM</td>\n",
              "      <td>DateReported</td>\n",
              "      <td>NaN</td>\n",
              "      <td>NaN</td>\n",
              "      <td>NaN</td>\n",
              "      <td>NaN</td>\n",
              "      <td>NaN</td>\n",
              "      <td>NaN</td>\n",
              "      <td>NaN</td>\n",
              "      <td>NaN</td>\n",
              "      <td>NaN</td>\n",
              "      <td>NaN</td>\n",
              "      <td>substance</td>\n",
              "      <td>NaN</td>\n",
              "      <td>NaN</td>\n",
              "      <td>NaN</td>\n",
              "      <td>NaN</td>\n",
              "      <td>Acute fent, hydrocod, benzodiazepine</td>\n",
              "      <td>NaN</td>\n",
              "      <td>NaN</td>\n",
              "      <td>NaN</td>\n",
              "      <td>Y</td>\n",
              "      <td>NaN</td>\n",
              "      <td>NaN</td>\n",
              "      <td>NaN</td>\n",
              "      <td>NaN</td>\n",
              "      <td>Y</td>\n",
              "      <td>Y</td>\n",
              "      <td>NaN</td>\n",
              "      <td>NaN</td>\n",
              "      <td>NaN</td>\n",
              "      <td>NaN</td>\n",
              "      <td>NaN</td>\n",
              "      <td>NaN</td>\n",
              "      <td>NaN</td>\n",
              "      <td>NaN</td>\n",
              "      <td>Accident</td>\n",
              "      <td>CT\\n(41.575155, -72.738288)</td>\n",
              "      <td>CT\\n(41.575155, -72.738288)</td>\n",
              "      <td>CT\\n(41.575155, -72.738288)</td>\n",
              "    </tr>\n",
              "    <tr>\n",
              "      <th>13-0102</th>\n",
              "      <td>03/21/2013 12:00:00 AM</td>\n",
              "      <td>DateofDeath</td>\n",
              "      <td>48.0</td>\n",
              "      <td>Male</td>\n",
              "      <td>Black</td>\n",
              "      <td>NORWALK</td>\n",
              "      <td>NaN</td>\n",
              "      <td>NaN</td>\n",
              "      <td>NORWALK</td>\n",
              "      <td>FAIRFIELD</td>\n",
              "      <td>Hospital</td>\n",
              "      <td>NaN</td>\n",
              "      <td>NaN</td>\n",
              "      <td>NaN</td>\n",
              "      <td>NaN</td>\n",
              "      <td>NaN</td>\n",
              "      <td>NaN</td>\n",
              "      <td>Cocaine Intoxication</td>\n",
              "      <td>NaN</td>\n",
              "      <td>NaN</td>\n",
              "      <td>Y</td>\n",
              "      <td>NaN</td>\n",
              "      <td>NaN</td>\n",
              "      <td>NaN</td>\n",
              "      <td>NaN</td>\n",
              "      <td>NaN</td>\n",
              "      <td>NaN</td>\n",
              "      <td>NaN</td>\n",
              "      <td>NaN</td>\n",
              "      <td>NaN</td>\n",
              "      <td>NaN</td>\n",
              "      <td>NaN</td>\n",
              "      <td>NaN</td>\n",
              "      <td>NaN</td>\n",
              "      <td>NaN</td>\n",
              "      <td>NaN</td>\n",
              "      <td>Accident</td>\n",
              "      <td>Norwalk, CT\\n(41.11805, -73.412906)</td>\n",
              "      <td>NORWALK, CT\\n(41.11805, -73.412906)</td>\n",
              "      <td>CT\\n(41.575155, -72.738288)</td>\n",
              "    </tr>\n",
              "    <tr>\n",
              "      <th>16-0165</th>\n",
              "      <td>03/13/2016 12:00:00 AM</td>\n",
              "      <td>DateofDeath</td>\n",
              "      <td>30.0</td>\n",
              "      <td>Female</td>\n",
              "      <td>White</td>\n",
              "      <td>SANDY HOOK</td>\n",
              "      <td>FAIRFIELD</td>\n",
              "      <td>CT</td>\n",
              "      <td>DANBURY</td>\n",
              "      <td>NaN</td>\n",
              "      <td>Hospital</td>\n",
              "      <td>NaN</td>\n",
              "      <td>Substance Abuse</td>\n",
              "      <td>Unknown</td>\n",
              "      <td>UNKNOWN</td>\n",
              "      <td>NaN</td>\n",
              "      <td>NaN</td>\n",
              "      <td>Acute Heroin and Cocaine Intoxication</td>\n",
              "      <td>NaN</td>\n",
              "      <td>Y</td>\n",
              "      <td>Y</td>\n",
              "      <td>NaN</td>\n",
              "      <td>NaN</td>\n",
              "      <td>NaN</td>\n",
              "      <td>NaN</td>\n",
              "      <td>NaN</td>\n",
              "      <td>NaN</td>\n",
              "      <td>NaN</td>\n",
              "      <td>NaN</td>\n",
              "      <td>NaN</td>\n",
              "      <td>NaN</td>\n",
              "      <td>NaN</td>\n",
              "      <td>NaN</td>\n",
              "      <td>NaN</td>\n",
              "      <td>NaN</td>\n",
              "      <td>Y</td>\n",
              "      <td>Accident</td>\n",
              "      <td>Danbury, CT\\n(41.393666, -73.451539)</td>\n",
              "      <td>SANDY HOOK, CT\\n(41.419998, -73.282501)</td>\n",
              "      <td>NaN</td>\n",
              "    </tr>\n",
              "    <tr>\n",
              "      <th>16-0208</th>\n",
              "      <td>03/31/2016 12:00:00 AM</td>\n",
              "      <td>DateofDeath</td>\n",
              "      <td>23.0</td>\n",
              "      <td>Male</td>\n",
              "      <td>White</td>\n",
              "      <td>RYE</td>\n",
              "      <td>WESTCHESTER</td>\n",
              "      <td>NY</td>\n",
              "      <td>GREENWICH</td>\n",
              "      <td>NaN</td>\n",
              "      <td>Hospital</td>\n",
              "      <td>NaN</td>\n",
              "      <td>substance abuse</td>\n",
              "      <td>Residence</td>\n",
              "      <td>RYE</td>\n",
              "      <td>NaN</td>\n",
              "      <td>NaN</td>\n",
              "      <td>Acute Fentanyl and Morphine Intoxication</td>\n",
              "      <td>NaN</td>\n",
              "      <td>Y</td>\n",
              "      <td>NaN</td>\n",
              "      <td>Y</td>\n",
              "      <td>NaN</td>\n",
              "      <td>NaN</td>\n",
              "      <td>NaN</td>\n",
              "      <td>NaN</td>\n",
              "      <td>NaN</td>\n",
              "      <td>NaN</td>\n",
              "      <td>NaN</td>\n",
              "      <td>NaN</td>\n",
              "      <td>NaN</td>\n",
              "      <td>NaN</td>\n",
              "      <td>NaN</td>\n",
              "      <td>NaN</td>\n",
              "      <td>NaN</td>\n",
              "      <td>Y</td>\n",
              "      <td>Accident</td>\n",
              "      <td>Greenwich, CT\\n(41.026526, -73.628549)</td>\n",
              "      <td>NaN</td>\n",
              "      <td>NaN</td>\n",
              "    </tr>\n",
              "    <tr>\n",
              "      <th>13-0052</th>\n",
              "      <td>02/13/2013 12:00:00 AM</td>\n",
              "      <td>DateofDeath</td>\n",
              "      <td>22.0</td>\n",
              "      <td>Male</td>\n",
              "      <td>Asian, Other</td>\n",
              "      <td>FLUSHING</td>\n",
              "      <td>QUEENS</td>\n",
              "      <td>NaN</td>\n",
              "      <td>GREENWICH</td>\n",
              "      <td>FAIRFIELD</td>\n",
              "      <td>Hospital</td>\n",
              "      <td>NaN</td>\n",
              "      <td>Transdermal Absorption</td>\n",
              "      <td>Other</td>\n",
              "      <td>NaN</td>\n",
              "      <td>NaN</td>\n",
              "      <td>NaN</td>\n",
              "      <td>Fentanyl Intoxication</td>\n",
              "      <td>NaN</td>\n",
              "      <td>NaN</td>\n",
              "      <td>NaN</td>\n",
              "      <td>Y</td>\n",
              "      <td>NaN</td>\n",
              "      <td>NaN</td>\n",
              "      <td>NaN</td>\n",
              "      <td>NaN</td>\n",
              "      <td>NaN</td>\n",
              "      <td>NaN</td>\n",
              "      <td>NaN</td>\n",
              "      <td>NaN</td>\n",
              "      <td>NaN</td>\n",
              "      <td>NaN</td>\n",
              "      <td>NaN</td>\n",
              "      <td>NaN</td>\n",
              "      <td>NaN</td>\n",
              "      <td>NaN</td>\n",
              "      <td>Accident</td>\n",
              "      <td>Greenwich, CT\\n(41.026526, -73.628549)</td>\n",
              "      <td>NaN</td>\n",
              "      <td>CT\\n(41.575155, -72.738288)</td>\n",
              "    </tr>\n",
              "  </tbody>\n",
              "</table>\n",
              "</div>"
            ],
            "text/plain": [
              "                           Date  ...                InjuryCityGeo\n",
              "ID                               ...                             \n",
              "14-0273  06/28/2014 12:00:00 AM  ...  CT\\n(41.575155, -72.738288)\n",
              "13-0102  03/21/2013 12:00:00 AM  ...  CT\\n(41.575155, -72.738288)\n",
              "16-0165  03/13/2016 12:00:00 AM  ...                          NaN\n",
              "16-0208  03/31/2016 12:00:00 AM  ...                          NaN\n",
              "13-0052  02/13/2013 12:00:00 AM  ...  CT\\n(41.575155, -72.738288)\n",
              "\n",
              "[5 rows x 40 columns]"
            ]
          },
          "metadata": {
            "tags": []
          },
          "execution_count": 29
        }
      ]
    },
    {
      "cell_type": "markdown",
      "metadata": {
        "id": "zmdQooewD6dq",
        "colab_type": "text"
      },
      "source": [
        "At first glance, I noticed that the data contains some amounts of missing values that might deter me from effectively analysing the data. These missing values will be dealt with later "
      ]
    },
    {
      "cell_type": "markdown",
      "metadata": {
        "id": "Cq3w_R7ZEX3h",
        "colab_type": "text"
      },
      "source": [
        "Dropping the columns that are of no use to my analysis "
      ]
    },
    {
      "cell_type": "code",
      "metadata": {
        "id": "zGqz7pQAWeRH",
        "colab_type": "code",
        "colab": {}
      },
      "source": [
        "death_from_drugs.drop(columns = ['DateType', 'ResidenceCounty', 'DeathCounty', 'LocationifOther', 'InjuryCity', 'InjuryCounty', 'InjuryState', 'OtherSignifican', 'FentanylAnalogue', 'Oxycodone',\n",
        "'Oxymorphone', 'Hydrocodone', 'Benzodiazepine', 'Methadone', 'Morphine_NotHeroin', 'Hydromorphone', 'Other', 'OpiateNOS', \n",
        "'DeathCityGeo', 'ResidenceCityGeo', 'InjuryCityGeo'], axis = 1, inplace = True)"
      ],
      "execution_count": 0,
      "outputs": []
    },
    {
      "cell_type": "code",
      "metadata": {
        "id": "X1MFLRTTXy_r",
        "colab_type": "code",
        "outputId": "b95715fb-d7d8-4213-95f3-ecabd9fa1b74",
        "colab": {
          "base_uri": "https://localhost:8080/",
          "height": 412
        }
      },
      "source": [
        "death_from_drugs.head()"
      ],
      "execution_count": 31,
      "outputs": [
        {
          "output_type": "execute_result",
          "data": {
            "text/html": [
              "<div>\n",
              "<style scoped>\n",
              "    .dataframe tbody tr th:only-of-type {\n",
              "        vertical-align: middle;\n",
              "    }\n",
              "\n",
              "    .dataframe tbody tr th {\n",
              "        vertical-align: top;\n",
              "    }\n",
              "\n",
              "    .dataframe thead th {\n",
              "        text-align: right;\n",
              "    }\n",
              "</style>\n",
              "<table border=\"1\" class=\"dataframe\">\n",
              "  <thead>\n",
              "    <tr style=\"text-align: right;\">\n",
              "      <th></th>\n",
              "      <th>Date</th>\n",
              "      <th>Age</th>\n",
              "      <th>Sex</th>\n",
              "      <th>Race</th>\n",
              "      <th>ResidenceCity</th>\n",
              "      <th>ResidenceState</th>\n",
              "      <th>DeathCity</th>\n",
              "      <th>Location</th>\n",
              "      <th>DescriptionofInjury</th>\n",
              "      <th>InjuryPlace</th>\n",
              "      <th>COD</th>\n",
              "      <th>Heroin</th>\n",
              "      <th>Cocaine</th>\n",
              "      <th>Fentanyl</th>\n",
              "      <th>Ethanol</th>\n",
              "      <th>Amphet</th>\n",
              "      <th>Tramad</th>\n",
              "      <th>AnyOpioid</th>\n",
              "      <th>MannerofDeath</th>\n",
              "    </tr>\n",
              "    <tr>\n",
              "      <th>ID</th>\n",
              "      <th></th>\n",
              "      <th></th>\n",
              "      <th></th>\n",
              "      <th></th>\n",
              "      <th></th>\n",
              "      <th></th>\n",
              "      <th></th>\n",
              "      <th></th>\n",
              "      <th></th>\n",
              "      <th></th>\n",
              "      <th></th>\n",
              "      <th></th>\n",
              "      <th></th>\n",
              "      <th></th>\n",
              "      <th></th>\n",
              "      <th></th>\n",
              "      <th></th>\n",
              "      <th></th>\n",
              "      <th></th>\n",
              "    </tr>\n",
              "  </thead>\n",
              "  <tbody>\n",
              "    <tr>\n",
              "      <th>14-0273</th>\n",
              "      <td>06/28/2014 12:00:00 AM</td>\n",
              "      <td>NaN</td>\n",
              "      <td>NaN</td>\n",
              "      <td>NaN</td>\n",
              "      <td>NaN</td>\n",
              "      <td>NaN</td>\n",
              "      <td>NaN</td>\n",
              "      <td>NaN</td>\n",
              "      <td>substance</td>\n",
              "      <td>NaN</td>\n",
              "      <td>Acute fent, hydrocod, benzodiazepine</td>\n",
              "      <td>NaN</td>\n",
              "      <td>NaN</td>\n",
              "      <td>Y</td>\n",
              "      <td>NaN</td>\n",
              "      <td>NaN</td>\n",
              "      <td>NaN</td>\n",
              "      <td>NaN</td>\n",
              "      <td>Accident</td>\n",
              "    </tr>\n",
              "    <tr>\n",
              "      <th>13-0102</th>\n",
              "      <td>03/21/2013 12:00:00 AM</td>\n",
              "      <td>48.0</td>\n",
              "      <td>Male</td>\n",
              "      <td>Black</td>\n",
              "      <td>NORWALK</td>\n",
              "      <td>NaN</td>\n",
              "      <td>NORWALK</td>\n",
              "      <td>Hospital</td>\n",
              "      <td>NaN</td>\n",
              "      <td>NaN</td>\n",
              "      <td>Cocaine Intoxication</td>\n",
              "      <td>NaN</td>\n",
              "      <td>Y</td>\n",
              "      <td>NaN</td>\n",
              "      <td>NaN</td>\n",
              "      <td>NaN</td>\n",
              "      <td>NaN</td>\n",
              "      <td>NaN</td>\n",
              "      <td>Accident</td>\n",
              "    </tr>\n",
              "    <tr>\n",
              "      <th>16-0165</th>\n",
              "      <td>03/13/2016 12:00:00 AM</td>\n",
              "      <td>30.0</td>\n",
              "      <td>Female</td>\n",
              "      <td>White</td>\n",
              "      <td>SANDY HOOK</td>\n",
              "      <td>CT</td>\n",
              "      <td>DANBURY</td>\n",
              "      <td>Hospital</td>\n",
              "      <td>Substance Abuse</td>\n",
              "      <td>Unknown</td>\n",
              "      <td>Acute Heroin and Cocaine Intoxication</td>\n",
              "      <td>Y</td>\n",
              "      <td>Y</td>\n",
              "      <td>NaN</td>\n",
              "      <td>NaN</td>\n",
              "      <td>NaN</td>\n",
              "      <td>NaN</td>\n",
              "      <td>Y</td>\n",
              "      <td>Accident</td>\n",
              "    </tr>\n",
              "    <tr>\n",
              "      <th>16-0208</th>\n",
              "      <td>03/31/2016 12:00:00 AM</td>\n",
              "      <td>23.0</td>\n",
              "      <td>Male</td>\n",
              "      <td>White</td>\n",
              "      <td>RYE</td>\n",
              "      <td>NY</td>\n",
              "      <td>GREENWICH</td>\n",
              "      <td>Hospital</td>\n",
              "      <td>substance abuse</td>\n",
              "      <td>Residence</td>\n",
              "      <td>Acute Fentanyl and Morphine Intoxication</td>\n",
              "      <td>Y</td>\n",
              "      <td>NaN</td>\n",
              "      <td>Y</td>\n",
              "      <td>NaN</td>\n",
              "      <td>NaN</td>\n",
              "      <td>NaN</td>\n",
              "      <td>Y</td>\n",
              "      <td>Accident</td>\n",
              "    </tr>\n",
              "    <tr>\n",
              "      <th>13-0052</th>\n",
              "      <td>02/13/2013 12:00:00 AM</td>\n",
              "      <td>22.0</td>\n",
              "      <td>Male</td>\n",
              "      <td>Asian, Other</td>\n",
              "      <td>FLUSHING</td>\n",
              "      <td>NaN</td>\n",
              "      <td>GREENWICH</td>\n",
              "      <td>Hospital</td>\n",
              "      <td>Transdermal Absorption</td>\n",
              "      <td>Other</td>\n",
              "      <td>Fentanyl Intoxication</td>\n",
              "      <td>NaN</td>\n",
              "      <td>NaN</td>\n",
              "      <td>Y</td>\n",
              "      <td>NaN</td>\n",
              "      <td>NaN</td>\n",
              "      <td>NaN</td>\n",
              "      <td>NaN</td>\n",
              "      <td>Accident</td>\n",
              "    </tr>\n",
              "  </tbody>\n",
              "</table>\n",
              "</div>"
            ],
            "text/plain": [
              "                           Date   Age     Sex  ... Tramad AnyOpioid MannerofDeath\n",
              "ID                                             ...                               \n",
              "14-0273  06/28/2014 12:00:00 AM   NaN     NaN  ...    NaN       NaN      Accident\n",
              "13-0102  03/21/2013 12:00:00 AM  48.0    Male  ...    NaN       NaN      Accident\n",
              "16-0165  03/13/2016 12:00:00 AM  30.0  Female  ...    NaN         Y      Accident\n",
              "16-0208  03/31/2016 12:00:00 AM  23.0    Male  ...    NaN         Y      Accident\n",
              "13-0052  02/13/2013 12:00:00 AM  22.0    Male  ...    NaN       NaN      Accident\n",
              "\n",
              "[5 rows x 19 columns]"
            ]
          },
          "metadata": {
            "tags": []
          },
          "execution_count": 31
        }
      ]
    },
    {
      "cell_type": "markdown",
      "metadata": {
        "id": "Jn-5R_yMEkOM",
        "colab_type": "text"
      },
      "source": [
        "Here we deal with missing values and make every adjustment we need to make to the data "
      ]
    },
    {
      "cell_type": "code",
      "metadata": {
        "id": "QWS7n7vMZgYJ",
        "colab_type": "code",
        "outputId": "811a8cdc-36c7-44a7-afb0-6a8d56dce3d6",
        "colab": {
          "base_uri": "https://localhost:8080/",
          "height": 122
        }
      },
      "source": [
        "death_from_drugs['Age'].unique()"
      ],
      "execution_count": 32,
      "outputs": [
        {
          "output_type": "execute_result",
          "data": {
            "text/plain": [
              "array([nan, 48., 30., 23., 22., 21., 40., 50., 26., 49., 29., 45., 42.,\n",
              "       54., 32., 47., 39., 27., 34., 25., 51., 35., 43., 55., 56., 28.,\n",
              "       67., 36., 52., 61., 53., 41., 31., 57., 24., 37., 38., 58., 59.,\n",
              "       46., 64., 60., 44., 33., 20., 19., 66., 63., 62., 65., 71., 73.,\n",
              "       68., 69., 75., 72., 18., 15., 70., 17., 74., 84., 14., 87., 81.,\n",
              "       16.])"
            ]
          },
          "metadata": {
            "tags": []
          },
          "execution_count": 32
        }
      ]
    },
    {
      "cell_type": "markdown",
      "metadata": {
        "id": "YdpurgFuEuik",
        "colab_type": "text"
      },
      "source": [
        "Here I created the Age group colum to better understabd the data"
      ]
    },
    {
      "cell_type": "code",
      "metadata": {
        "id": "k3-b6CVUZuH_",
        "colab_type": "code",
        "colab": {}
      },
      "source": [
        "bins = [0, 18, 64, 100]\n",
        "labels = ('Minor', 'Adult', 'Senior')\n",
        "death_from_drugs['Age group'] = pd.cut(death_from_drugs['Age'], bins = bins, labels = labels, right = False)"
      ],
      "execution_count": 0,
      "outputs": []
    },
    {
      "cell_type": "code",
      "metadata": {
        "id": "GhhARZ5mbX_a",
        "colab_type": "code",
        "outputId": "b7f256a4-3519-4a9d-dd93-b1e86d7fe592",
        "colab": {
          "base_uri": "https://localhost:8080/",
          "height": 428
        }
      },
      "source": [
        "death_from_drugs.head()"
      ],
      "execution_count": 34,
      "outputs": [
        {
          "output_type": "execute_result",
          "data": {
            "text/html": [
              "<div>\n",
              "<style scoped>\n",
              "    .dataframe tbody tr th:only-of-type {\n",
              "        vertical-align: middle;\n",
              "    }\n",
              "\n",
              "    .dataframe tbody tr th {\n",
              "        vertical-align: top;\n",
              "    }\n",
              "\n",
              "    .dataframe thead th {\n",
              "        text-align: right;\n",
              "    }\n",
              "</style>\n",
              "<table border=\"1\" class=\"dataframe\">\n",
              "  <thead>\n",
              "    <tr style=\"text-align: right;\">\n",
              "      <th></th>\n",
              "      <th>Date</th>\n",
              "      <th>Age</th>\n",
              "      <th>Sex</th>\n",
              "      <th>Race</th>\n",
              "      <th>ResidenceCity</th>\n",
              "      <th>ResidenceState</th>\n",
              "      <th>DeathCity</th>\n",
              "      <th>Location</th>\n",
              "      <th>DescriptionofInjury</th>\n",
              "      <th>InjuryPlace</th>\n",
              "      <th>COD</th>\n",
              "      <th>Heroin</th>\n",
              "      <th>Cocaine</th>\n",
              "      <th>Fentanyl</th>\n",
              "      <th>Ethanol</th>\n",
              "      <th>Amphet</th>\n",
              "      <th>Tramad</th>\n",
              "      <th>AnyOpioid</th>\n",
              "      <th>MannerofDeath</th>\n",
              "      <th>Age group</th>\n",
              "    </tr>\n",
              "    <tr>\n",
              "      <th>ID</th>\n",
              "      <th></th>\n",
              "      <th></th>\n",
              "      <th></th>\n",
              "      <th></th>\n",
              "      <th></th>\n",
              "      <th></th>\n",
              "      <th></th>\n",
              "      <th></th>\n",
              "      <th></th>\n",
              "      <th></th>\n",
              "      <th></th>\n",
              "      <th></th>\n",
              "      <th></th>\n",
              "      <th></th>\n",
              "      <th></th>\n",
              "      <th></th>\n",
              "      <th></th>\n",
              "      <th></th>\n",
              "      <th></th>\n",
              "      <th></th>\n",
              "    </tr>\n",
              "  </thead>\n",
              "  <tbody>\n",
              "    <tr>\n",
              "      <th>14-0273</th>\n",
              "      <td>06/28/2014 12:00:00 AM</td>\n",
              "      <td>NaN</td>\n",
              "      <td>NaN</td>\n",
              "      <td>NaN</td>\n",
              "      <td>NaN</td>\n",
              "      <td>NaN</td>\n",
              "      <td>NaN</td>\n",
              "      <td>NaN</td>\n",
              "      <td>substance</td>\n",
              "      <td>NaN</td>\n",
              "      <td>Acute fent, hydrocod, benzodiazepine</td>\n",
              "      <td>NaN</td>\n",
              "      <td>NaN</td>\n",
              "      <td>Y</td>\n",
              "      <td>NaN</td>\n",
              "      <td>NaN</td>\n",
              "      <td>NaN</td>\n",
              "      <td>NaN</td>\n",
              "      <td>Accident</td>\n",
              "      <td>NaN</td>\n",
              "    </tr>\n",
              "    <tr>\n",
              "      <th>13-0102</th>\n",
              "      <td>03/21/2013 12:00:00 AM</td>\n",
              "      <td>48.0</td>\n",
              "      <td>Male</td>\n",
              "      <td>Black</td>\n",
              "      <td>NORWALK</td>\n",
              "      <td>NaN</td>\n",
              "      <td>NORWALK</td>\n",
              "      <td>Hospital</td>\n",
              "      <td>NaN</td>\n",
              "      <td>NaN</td>\n",
              "      <td>Cocaine Intoxication</td>\n",
              "      <td>NaN</td>\n",
              "      <td>Y</td>\n",
              "      <td>NaN</td>\n",
              "      <td>NaN</td>\n",
              "      <td>NaN</td>\n",
              "      <td>NaN</td>\n",
              "      <td>NaN</td>\n",
              "      <td>Accident</td>\n",
              "      <td>Adult</td>\n",
              "    </tr>\n",
              "    <tr>\n",
              "      <th>16-0165</th>\n",
              "      <td>03/13/2016 12:00:00 AM</td>\n",
              "      <td>30.0</td>\n",
              "      <td>Female</td>\n",
              "      <td>White</td>\n",
              "      <td>SANDY HOOK</td>\n",
              "      <td>CT</td>\n",
              "      <td>DANBURY</td>\n",
              "      <td>Hospital</td>\n",
              "      <td>Substance Abuse</td>\n",
              "      <td>Unknown</td>\n",
              "      <td>Acute Heroin and Cocaine Intoxication</td>\n",
              "      <td>Y</td>\n",
              "      <td>Y</td>\n",
              "      <td>NaN</td>\n",
              "      <td>NaN</td>\n",
              "      <td>NaN</td>\n",
              "      <td>NaN</td>\n",
              "      <td>Y</td>\n",
              "      <td>Accident</td>\n",
              "      <td>Adult</td>\n",
              "    </tr>\n",
              "    <tr>\n",
              "      <th>16-0208</th>\n",
              "      <td>03/31/2016 12:00:00 AM</td>\n",
              "      <td>23.0</td>\n",
              "      <td>Male</td>\n",
              "      <td>White</td>\n",
              "      <td>RYE</td>\n",
              "      <td>NY</td>\n",
              "      <td>GREENWICH</td>\n",
              "      <td>Hospital</td>\n",
              "      <td>substance abuse</td>\n",
              "      <td>Residence</td>\n",
              "      <td>Acute Fentanyl and Morphine Intoxication</td>\n",
              "      <td>Y</td>\n",
              "      <td>NaN</td>\n",
              "      <td>Y</td>\n",
              "      <td>NaN</td>\n",
              "      <td>NaN</td>\n",
              "      <td>NaN</td>\n",
              "      <td>Y</td>\n",
              "      <td>Accident</td>\n",
              "      <td>Adult</td>\n",
              "    </tr>\n",
              "    <tr>\n",
              "      <th>13-0052</th>\n",
              "      <td>02/13/2013 12:00:00 AM</td>\n",
              "      <td>22.0</td>\n",
              "      <td>Male</td>\n",
              "      <td>Asian, Other</td>\n",
              "      <td>FLUSHING</td>\n",
              "      <td>NaN</td>\n",
              "      <td>GREENWICH</td>\n",
              "      <td>Hospital</td>\n",
              "      <td>Transdermal Absorption</td>\n",
              "      <td>Other</td>\n",
              "      <td>Fentanyl Intoxication</td>\n",
              "      <td>NaN</td>\n",
              "      <td>NaN</td>\n",
              "      <td>Y</td>\n",
              "      <td>NaN</td>\n",
              "      <td>NaN</td>\n",
              "      <td>NaN</td>\n",
              "      <td>NaN</td>\n",
              "      <td>Accident</td>\n",
              "      <td>Adult</td>\n",
              "    </tr>\n",
              "  </tbody>\n",
              "</table>\n",
              "</div>"
            ],
            "text/plain": [
              "                           Date   Age     Sex  ... AnyOpioid MannerofDeath Age group\n",
              "ID                                             ...                                  \n",
              "14-0273  06/28/2014 12:00:00 AM   NaN     NaN  ...       NaN      Accident       NaN\n",
              "13-0102  03/21/2013 12:00:00 AM  48.0    Male  ...       NaN      Accident     Adult\n",
              "16-0165  03/13/2016 12:00:00 AM  30.0  Female  ...         Y      Accident     Adult\n",
              "16-0208  03/31/2016 12:00:00 AM  23.0    Male  ...         Y      Accident     Adult\n",
              "13-0052  02/13/2013 12:00:00 AM  22.0    Male  ...       NaN      Accident     Adult\n",
              "\n",
              "[5 rows x 20 columns]"
            ]
          },
          "metadata": {
            "tags": []
          },
          "execution_count": 34
        }
      ]
    },
    {
      "cell_type": "markdown",
      "metadata": {
        "id": "ilakF2cDE40w",
        "colab_type": "text"
      },
      "source": [
        "Here I dropped all the missing values "
      ]
    },
    {
      "cell_type": "code",
      "metadata": {
        "id": "GUUdPwA6bf7h",
        "colab_type": "code",
        "colab": {}
      },
      "source": [
        "death_from_drugs.dropna(subset = ['Date', 'Age', 'Sex', 'Race', 'ResidenceCity', 'ResidenceState', 'DeathCity', 'Location', 'DescriptionofInjury', 'InjuryPlace', 'COD', 'MannerofDeath'],\n",
        "                        axis = 0, inplace = True)"
      ],
      "execution_count": 0,
      "outputs": []
    },
    {
      "cell_type": "code",
      "metadata": {
        "id": "xJ4p0uNVdxmm",
        "colab_type": "code",
        "outputId": "1335b75a-dabb-4671-d541-77e59a5338ea",
        "colab": {
          "base_uri": "https://localhost:8080/",
          "height": 578
        }
      },
      "source": [
        "death_from_drugs.head()"
      ],
      "execution_count": 36,
      "outputs": [
        {
          "output_type": "execute_result",
          "data": {
            "text/html": [
              "<div>\n",
              "<style scoped>\n",
              "    .dataframe tbody tr th:only-of-type {\n",
              "        vertical-align: middle;\n",
              "    }\n",
              "\n",
              "    .dataframe tbody tr th {\n",
              "        vertical-align: top;\n",
              "    }\n",
              "\n",
              "    .dataframe thead th {\n",
              "        text-align: right;\n",
              "    }\n",
              "</style>\n",
              "<table border=\"1\" class=\"dataframe\">\n",
              "  <thead>\n",
              "    <tr style=\"text-align: right;\">\n",
              "      <th></th>\n",
              "      <th>Date</th>\n",
              "      <th>Age</th>\n",
              "      <th>Sex</th>\n",
              "      <th>Race</th>\n",
              "      <th>ResidenceCity</th>\n",
              "      <th>ResidenceState</th>\n",
              "      <th>DeathCity</th>\n",
              "      <th>Location</th>\n",
              "      <th>DescriptionofInjury</th>\n",
              "      <th>InjuryPlace</th>\n",
              "      <th>COD</th>\n",
              "      <th>Heroin</th>\n",
              "      <th>Cocaine</th>\n",
              "      <th>Fentanyl</th>\n",
              "      <th>Ethanol</th>\n",
              "      <th>Amphet</th>\n",
              "      <th>Tramad</th>\n",
              "      <th>AnyOpioid</th>\n",
              "      <th>MannerofDeath</th>\n",
              "      <th>Age group</th>\n",
              "    </tr>\n",
              "    <tr>\n",
              "      <th>ID</th>\n",
              "      <th></th>\n",
              "      <th></th>\n",
              "      <th></th>\n",
              "      <th></th>\n",
              "      <th></th>\n",
              "      <th></th>\n",
              "      <th></th>\n",
              "      <th></th>\n",
              "      <th></th>\n",
              "      <th></th>\n",
              "      <th></th>\n",
              "      <th></th>\n",
              "      <th></th>\n",
              "      <th></th>\n",
              "      <th></th>\n",
              "      <th></th>\n",
              "      <th></th>\n",
              "      <th></th>\n",
              "      <th></th>\n",
              "      <th></th>\n",
              "    </tr>\n",
              "  </thead>\n",
              "  <tbody>\n",
              "    <tr>\n",
              "      <th>16-0165</th>\n",
              "      <td>03/13/2016 12:00:00 AM</td>\n",
              "      <td>30.0</td>\n",
              "      <td>Female</td>\n",
              "      <td>White</td>\n",
              "      <td>SANDY HOOK</td>\n",
              "      <td>CT</td>\n",
              "      <td>DANBURY</td>\n",
              "      <td>Hospital</td>\n",
              "      <td>Substance Abuse</td>\n",
              "      <td>Unknown</td>\n",
              "      <td>Acute Heroin and Cocaine Intoxication</td>\n",
              "      <td>Y</td>\n",
              "      <td>Y</td>\n",
              "      <td>NaN</td>\n",
              "      <td>NaN</td>\n",
              "      <td>NaN</td>\n",
              "      <td>NaN</td>\n",
              "      <td>Y</td>\n",
              "      <td>Accident</td>\n",
              "      <td>Adult</td>\n",
              "    </tr>\n",
              "    <tr>\n",
              "      <th>16-0208</th>\n",
              "      <td>03/31/2016 12:00:00 AM</td>\n",
              "      <td>23.0</td>\n",
              "      <td>Male</td>\n",
              "      <td>White</td>\n",
              "      <td>RYE</td>\n",
              "      <td>NY</td>\n",
              "      <td>GREENWICH</td>\n",
              "      <td>Hospital</td>\n",
              "      <td>substance abuse</td>\n",
              "      <td>Residence</td>\n",
              "      <td>Acute Fentanyl and Morphine Intoxication</td>\n",
              "      <td>Y</td>\n",
              "      <td>NaN</td>\n",
              "      <td>Y</td>\n",
              "      <td>NaN</td>\n",
              "      <td>NaN</td>\n",
              "      <td>NaN</td>\n",
              "      <td>Y</td>\n",
              "      <td>Accident</td>\n",
              "      <td>Adult</td>\n",
              "    </tr>\n",
              "    <tr>\n",
              "      <th>16-0028</th>\n",
              "      <td>01/13/2016 12:00:00 AM</td>\n",
              "      <td>29.0</td>\n",
              "      <td>Male</td>\n",
              "      <td>Black</td>\n",
              "      <td>NEW HAVEN</td>\n",
              "      <td>CT</td>\n",
              "      <td>NEW HAVEN</td>\n",
              "      <td>Residence</td>\n",
              "      <td>Substance Abuse</td>\n",
              "      <td>Residence</td>\n",
              "      <td>Acute Heroin Intoxication in a Person Taking C...</td>\n",
              "      <td>Y</td>\n",
              "      <td>NaN</td>\n",
              "      <td>NaN</td>\n",
              "      <td>NaN</td>\n",
              "      <td>Y</td>\n",
              "      <td>NaN</td>\n",
              "      <td>Y</td>\n",
              "      <td>Accident</td>\n",
              "      <td>Adult</td>\n",
              "    </tr>\n",
              "    <tr>\n",
              "      <th>16-0065</th>\n",
              "      <td>01/30/2016 12:00:00 AM</td>\n",
              "      <td>54.0</td>\n",
              "      <td>Male</td>\n",
              "      <td>White</td>\n",
              "      <td>MIDDLETOWN</td>\n",
              "      <td>CT</td>\n",
              "      <td>MIDDLETOWN</td>\n",
              "      <td>Residence</td>\n",
              "      <td>Substance Abuse Including Injection of Heroin</td>\n",
              "      <td>Residence</td>\n",
              "      <td>Acute Heroin Intoxication While Using Alcohol,...</td>\n",
              "      <td>Y</td>\n",
              "      <td>NaN</td>\n",
              "      <td>NaN</td>\n",
              "      <td>Y</td>\n",
              "      <td>NaN</td>\n",
              "      <td>NaN</td>\n",
              "      <td>Y</td>\n",
              "      <td>Accident</td>\n",
              "      <td>Adult</td>\n",
              "    </tr>\n",
              "    <tr>\n",
              "      <th>16-0688</th>\n",
              "      <td>10/07/2016 12:00:00 AM</td>\n",
              "      <td>34.0</td>\n",
              "      <td>Male</td>\n",
              "      <td>White</td>\n",
              "      <td>COS COB</td>\n",
              "      <td>CT</td>\n",
              "      <td>COS COB</td>\n",
              "      <td>Residence</td>\n",
              "      <td>Substance Abuse</td>\n",
              "      <td>Residence</td>\n",
              "      <td>Acute Intoxication due to the Combined Effects...</td>\n",
              "      <td>Y</td>\n",
              "      <td>NaN</td>\n",
              "      <td>Y</td>\n",
              "      <td>NaN</td>\n",
              "      <td>NaN</td>\n",
              "      <td>NaN</td>\n",
              "      <td>Y</td>\n",
              "      <td>Accident</td>\n",
              "      <td>Adult</td>\n",
              "    </tr>\n",
              "  </tbody>\n",
              "</table>\n",
              "</div>"
            ],
            "text/plain": [
              "                           Date   Age     Sex  ... AnyOpioid MannerofDeath Age group\n",
              "ID                                             ...                                  \n",
              "16-0165  03/13/2016 12:00:00 AM  30.0  Female  ...         Y      Accident     Adult\n",
              "16-0208  03/31/2016 12:00:00 AM  23.0    Male  ...         Y      Accident     Adult\n",
              "16-0028  01/13/2016 12:00:00 AM  29.0    Male  ...         Y      Accident     Adult\n",
              "16-0065  01/30/2016 12:00:00 AM  54.0    Male  ...         Y      Accident     Adult\n",
              "16-0688  10/07/2016 12:00:00 AM  34.0    Male  ...         Y      Accident     Adult\n",
              "\n",
              "[5 rows x 20 columns]"
            ]
          },
          "metadata": {
            "tags": []
          },
          "execution_count": 36
        }
      ]
    },
    {
      "cell_type": "code",
      "metadata": {
        "id": "E45HR893c8C7",
        "colab_type": "code",
        "outputId": "779cfea6-c4c0-41d9-a370-27ae297ed81e",
        "colab": {
          "base_uri": "https://localhost:8080/",
          "height": 492
        }
      },
      "source": [
        "death_from_drugs.info()"
      ],
      "execution_count": 37,
      "outputs": [
        {
          "output_type": "stream",
          "text": [
            "<class 'pandas.core.frame.DataFrame'>\n",
            "Index: 2815 entries, 16-0165 to 16-0637\n",
            "Data columns (total 20 columns):\n",
            " #   Column               Non-Null Count  Dtype   \n",
            "---  ------               --------------  -----   \n",
            " 0   Date                 2815 non-null   object  \n",
            " 1   Age                  2815 non-null   float64 \n",
            " 2   Sex                  2815 non-null   object  \n",
            " 3   Race                 2815 non-null   object  \n",
            " 4   ResidenceCity        2815 non-null   object  \n",
            " 5   ResidenceState       2815 non-null   object  \n",
            " 6   DeathCity            2815 non-null   object  \n",
            " 7   Location             2815 non-null   object  \n",
            " 8   DescriptionofInjury  2815 non-null   object  \n",
            " 9   InjuryPlace          2815 non-null   object  \n",
            " 10  COD                  2815 non-null   object  \n",
            " 11  Heroin               1290 non-null   object  \n",
            " 12  Cocaine              896 non-null    object  \n",
            " 13  Fentanyl             1807 non-null   object  \n",
            " 14  Ethanol              750 non-null    object  \n",
            " 15  Amphet               113 non-null    object  \n",
            " 16  Tramad               82 non-null     object  \n",
            " 17  AnyOpioid            1712 non-null   object  \n",
            " 18  MannerofDeath        2815 non-null   object  \n",
            " 19  Age group            2815 non-null   category\n",
            "dtypes: category(1), float64(1), object(18)\n",
            "memory usage: 442.7+ KB\n"
          ],
          "name": "stdout"
        }
      ]
    },
    {
      "cell_type": "markdown",
      "metadata": {
        "id": "ZJ5m0f1xE-sW",
        "colab_type": "text"
      },
      "source": [
        "Then I converted the columns that are in the wrong format "
      ]
    },
    {
      "cell_type": "code",
      "metadata": {
        "id": "gteaYtA5dGAR",
        "colab_type": "code",
        "colab": {}
      },
      "source": [
        "death_from_drugs['Date'] = pd.to_datetime(death_from_drugs['Date'], errors = 'coerce')\n",
        "death_from_drugs['Age'] = death_from_drugs['Age'].astype('int')\n",
        "death_from_drugs['Sex'] = death_from_drugs['Sex'].astype('category')\n",
        "death_from_drugs['Race'] = death_from_drugs['Race'].astype('category')"
      ],
      "execution_count": 0,
      "outputs": []
    },
    {
      "cell_type": "code",
      "metadata": {
        "id": "_X3L5RUudYr9",
        "colab_type": "code",
        "outputId": "9f4960f9-2a48-44b2-8b20-71845ae983b4",
        "colab": {
          "base_uri": "https://localhost:8080/",
          "height": 492
        }
      },
      "source": [
        "death_from_drugs.info()"
      ],
      "execution_count": 15,
      "outputs": [
        {
          "output_type": "stream",
          "text": [
            "<class 'pandas.core.frame.DataFrame'>\n",
            "Index: 2815 entries, 16-0165 to 16-0637\n",
            "Data columns (total 20 columns):\n",
            " #   Column               Non-Null Count  Dtype         \n",
            "---  ------               --------------  -----         \n",
            " 0   Date                 2815 non-null   datetime64[ns]\n",
            " 1   Age                  2815 non-null   int64         \n",
            " 2   Sex                  2815 non-null   category      \n",
            " 3   Race                 2815 non-null   category      \n",
            " 4   ResidenceCity        2815 non-null   object        \n",
            " 5   ResidenceState       2815 non-null   object        \n",
            " 6   DeathCity            2815 non-null   object        \n",
            " 7   Location             2815 non-null   object        \n",
            " 8   DescriptionofInjury  2815 non-null   object        \n",
            " 9   InjuryPlace          2815 non-null   object        \n",
            " 10  COD                  2815 non-null   object        \n",
            " 11  Heroin               1290 non-null   object        \n",
            " 12  Cocaine              896 non-null    object        \n",
            " 13  Fentanyl             1807 non-null   object        \n",
            " 14  Ethanol              750 non-null    object        \n",
            " 15  Amphet               113 non-null    object        \n",
            " 16  Tramad               82 non-null     object        \n",
            " 17  AnyOpioid            1712 non-null   object        \n",
            " 18  MannerofDeath        2815 non-null   object        \n",
            " 19  Age group            2815 non-null   category      \n",
            "dtypes: category(3), datetime64[ns](1), int64(1), object(15)\n",
            "memory usage: 404.7+ KB\n"
          ],
          "name": "stdout"
        }
      ]
    },
    {
      "cell_type": "markdown",
      "metadata": {
        "id": "_ObuMe1OFIAG",
        "colab_type": "text"
      },
      "source": [
        "I created a function to help me with replacing some values in my data. This helps in making my code short and I dont have to write repetitive codes "
      ]
    },
    {
      "cell_type": "code",
      "metadata": {
        "id": "A3DX9SWDei0F",
        "colab_type": "code",
        "colab": {}
      },
      "source": [
        "def replace_nan(column_to_replace):\n",
        "  replaced_values = column_to_replace.replace(to_replace = np.nan, value = 'N', inplace = True)\n",
        "  return replaced_values"
      ],
      "execution_count": 0,
      "outputs": []
    },
    {
      "cell_type": "code",
      "metadata": {
        "id": "8is6PsxLgoHw",
        "colab_type": "code",
        "colab": {}
      },
      "source": [
        "replace_nan(death_from_drugs['Heroin'])\n",
        "replace_nan(death_from_drugs['Cocaine'])\n",
        "replace_nan(death_from_drugs['Fentanyl'])\n",
        "replace_nan(death_from_drugs['Ethanol'])\n",
        "replace_nan(death_from_drugs['Amphet'])\n",
        "replace_nan(death_from_drugs['Tramad'])\n",
        "replace_nan(death_from_drugs['AnyOpioid'])"
      ],
      "execution_count": 0,
      "outputs": []
    },
    {
      "cell_type": "code",
      "metadata": {
        "id": "yhpbAkR1gwEc",
        "colab_type": "code",
        "outputId": "3dfd2401-85d0-4d18-dc42-ba109175501c",
        "colab": {
          "base_uri": "https://localhost:8080/",
          "height": 492
        }
      },
      "source": [
        "death_from_drugs.info()"
      ],
      "execution_count": 18,
      "outputs": [
        {
          "output_type": "stream",
          "text": [
            "<class 'pandas.core.frame.DataFrame'>\n",
            "Index: 2815 entries, 16-0165 to 16-0637\n",
            "Data columns (total 20 columns):\n",
            " #   Column               Non-Null Count  Dtype         \n",
            "---  ------               --------------  -----         \n",
            " 0   Date                 2815 non-null   datetime64[ns]\n",
            " 1   Age                  2815 non-null   int64         \n",
            " 2   Sex                  2815 non-null   category      \n",
            " 3   Race                 2815 non-null   category      \n",
            " 4   ResidenceCity        2815 non-null   object        \n",
            " 5   ResidenceState       2815 non-null   object        \n",
            " 6   DeathCity            2815 non-null   object        \n",
            " 7   Location             2815 non-null   object        \n",
            " 8   DescriptionofInjury  2815 non-null   object        \n",
            " 9   InjuryPlace          2815 non-null   object        \n",
            " 10  COD                  2815 non-null   object        \n",
            " 11  Heroin               2815 non-null   object        \n",
            " 12  Cocaine              2815 non-null   object        \n",
            " 13  Fentanyl             2815 non-null   object        \n",
            " 14  Ethanol              2815 non-null   object        \n",
            " 15  Amphet               2815 non-null   object        \n",
            " 16  Tramad               2815 non-null   object        \n",
            " 17  AnyOpioid            2815 non-null   object        \n",
            " 18  MannerofDeath        2815 non-null   object        \n",
            " 19  Age group            2815 non-null   category      \n",
            "dtypes: category(3), datetime64[ns](1), int64(1), object(15)\n",
            "memory usage: 404.7+ KB\n"
          ],
          "name": "stdout"
        }
      ]
    },
    {
      "cell_type": "markdown",
      "metadata": {
        "id": "NOpSRoVlFY9q",
        "colab_type": "text"
      },
      "source": [
        "I have successfully cleaned the data and there are no missing values "
      ]
    },
    {
      "cell_type": "code",
      "metadata": {
        "id": "oYy1f-JohPhw",
        "colab_type": "code",
        "outputId": "b81f04e1-82a2-4ff8-aea0-73116455e874",
        "colab": {
          "base_uri": "https://localhost:8080/",
          "height": 578
        }
      },
      "source": [
        "death_from_drugs.head()"
      ],
      "execution_count": 19,
      "outputs": [
        {
          "output_type": "execute_result",
          "data": {
            "text/html": [
              "<div>\n",
              "<style scoped>\n",
              "    .dataframe tbody tr th:only-of-type {\n",
              "        vertical-align: middle;\n",
              "    }\n",
              "\n",
              "    .dataframe tbody tr th {\n",
              "        vertical-align: top;\n",
              "    }\n",
              "\n",
              "    .dataframe thead th {\n",
              "        text-align: right;\n",
              "    }\n",
              "</style>\n",
              "<table border=\"1\" class=\"dataframe\">\n",
              "  <thead>\n",
              "    <tr style=\"text-align: right;\">\n",
              "      <th></th>\n",
              "      <th>Date</th>\n",
              "      <th>Age</th>\n",
              "      <th>Sex</th>\n",
              "      <th>Race</th>\n",
              "      <th>ResidenceCity</th>\n",
              "      <th>ResidenceState</th>\n",
              "      <th>DeathCity</th>\n",
              "      <th>Location</th>\n",
              "      <th>DescriptionofInjury</th>\n",
              "      <th>InjuryPlace</th>\n",
              "      <th>COD</th>\n",
              "      <th>Heroin</th>\n",
              "      <th>Cocaine</th>\n",
              "      <th>Fentanyl</th>\n",
              "      <th>Ethanol</th>\n",
              "      <th>Amphet</th>\n",
              "      <th>Tramad</th>\n",
              "      <th>AnyOpioid</th>\n",
              "      <th>MannerofDeath</th>\n",
              "      <th>Age group</th>\n",
              "    </tr>\n",
              "    <tr>\n",
              "      <th>ID</th>\n",
              "      <th></th>\n",
              "      <th></th>\n",
              "      <th></th>\n",
              "      <th></th>\n",
              "      <th></th>\n",
              "      <th></th>\n",
              "      <th></th>\n",
              "      <th></th>\n",
              "      <th></th>\n",
              "      <th></th>\n",
              "      <th></th>\n",
              "      <th></th>\n",
              "      <th></th>\n",
              "      <th></th>\n",
              "      <th></th>\n",
              "      <th></th>\n",
              "      <th></th>\n",
              "      <th></th>\n",
              "      <th></th>\n",
              "      <th></th>\n",
              "    </tr>\n",
              "  </thead>\n",
              "  <tbody>\n",
              "    <tr>\n",
              "      <th>16-0165</th>\n",
              "      <td>2016-03-13</td>\n",
              "      <td>30</td>\n",
              "      <td>Female</td>\n",
              "      <td>White</td>\n",
              "      <td>SANDY HOOK</td>\n",
              "      <td>CT</td>\n",
              "      <td>DANBURY</td>\n",
              "      <td>Hospital</td>\n",
              "      <td>Substance Abuse</td>\n",
              "      <td>Unknown</td>\n",
              "      <td>Acute Heroin and Cocaine Intoxication</td>\n",
              "      <td>Y</td>\n",
              "      <td>Y</td>\n",
              "      <td>N</td>\n",
              "      <td>N</td>\n",
              "      <td>N</td>\n",
              "      <td>N</td>\n",
              "      <td>Y</td>\n",
              "      <td>Accident</td>\n",
              "      <td>Adult</td>\n",
              "    </tr>\n",
              "    <tr>\n",
              "      <th>16-0208</th>\n",
              "      <td>2016-03-31</td>\n",
              "      <td>23</td>\n",
              "      <td>Male</td>\n",
              "      <td>White</td>\n",
              "      <td>RYE</td>\n",
              "      <td>NY</td>\n",
              "      <td>GREENWICH</td>\n",
              "      <td>Hospital</td>\n",
              "      <td>substance abuse</td>\n",
              "      <td>Residence</td>\n",
              "      <td>Acute Fentanyl and Morphine Intoxication</td>\n",
              "      <td>Y</td>\n",
              "      <td>N</td>\n",
              "      <td>Y</td>\n",
              "      <td>N</td>\n",
              "      <td>N</td>\n",
              "      <td>N</td>\n",
              "      <td>Y</td>\n",
              "      <td>Accident</td>\n",
              "      <td>Adult</td>\n",
              "    </tr>\n",
              "    <tr>\n",
              "      <th>16-0028</th>\n",
              "      <td>2016-01-13</td>\n",
              "      <td>29</td>\n",
              "      <td>Male</td>\n",
              "      <td>Black</td>\n",
              "      <td>NEW HAVEN</td>\n",
              "      <td>CT</td>\n",
              "      <td>NEW HAVEN</td>\n",
              "      <td>Residence</td>\n",
              "      <td>Substance Abuse</td>\n",
              "      <td>Residence</td>\n",
              "      <td>Acute Heroin Intoxication in a Person Taking C...</td>\n",
              "      <td>Y</td>\n",
              "      <td>N</td>\n",
              "      <td>N</td>\n",
              "      <td>N</td>\n",
              "      <td>Y</td>\n",
              "      <td>N</td>\n",
              "      <td>Y</td>\n",
              "      <td>Accident</td>\n",
              "      <td>Adult</td>\n",
              "    </tr>\n",
              "    <tr>\n",
              "      <th>16-0065</th>\n",
              "      <td>2016-01-30</td>\n",
              "      <td>54</td>\n",
              "      <td>Male</td>\n",
              "      <td>White</td>\n",
              "      <td>MIDDLETOWN</td>\n",
              "      <td>CT</td>\n",
              "      <td>MIDDLETOWN</td>\n",
              "      <td>Residence</td>\n",
              "      <td>Substance Abuse Including Injection of Heroin</td>\n",
              "      <td>Residence</td>\n",
              "      <td>Acute Heroin Intoxication While Using Alcohol,...</td>\n",
              "      <td>Y</td>\n",
              "      <td>N</td>\n",
              "      <td>N</td>\n",
              "      <td>Y</td>\n",
              "      <td>N</td>\n",
              "      <td>N</td>\n",
              "      <td>Y</td>\n",
              "      <td>Accident</td>\n",
              "      <td>Adult</td>\n",
              "    </tr>\n",
              "    <tr>\n",
              "      <th>16-0688</th>\n",
              "      <td>2016-10-07</td>\n",
              "      <td>34</td>\n",
              "      <td>Male</td>\n",
              "      <td>White</td>\n",
              "      <td>COS COB</td>\n",
              "      <td>CT</td>\n",
              "      <td>COS COB</td>\n",
              "      <td>Residence</td>\n",
              "      <td>Substance Abuse</td>\n",
              "      <td>Residence</td>\n",
              "      <td>Acute Intoxication due to the Combined Effects...</td>\n",
              "      <td>Y</td>\n",
              "      <td>N</td>\n",
              "      <td>Y</td>\n",
              "      <td>N</td>\n",
              "      <td>N</td>\n",
              "      <td>N</td>\n",
              "      <td>Y</td>\n",
              "      <td>Accident</td>\n",
              "      <td>Adult</td>\n",
              "    </tr>\n",
              "  </tbody>\n",
              "</table>\n",
              "</div>"
            ],
            "text/plain": [
              "              Date  Age     Sex   Race  ... Tramad AnyOpioid MannerofDeath Age group\n",
              "ID                                      ...                                         \n",
              "16-0165 2016-03-13   30  Female  White  ...      N         Y      Accident     Adult\n",
              "16-0208 2016-03-31   23    Male  White  ...      N         Y      Accident     Adult\n",
              "16-0028 2016-01-13   29    Male  Black  ...      N         Y      Accident     Adult\n",
              "16-0065 2016-01-30   54    Male  White  ...      N         Y      Accident     Adult\n",
              "16-0688 2016-10-07   34    Male  White  ...      N         Y      Accident     Adult\n",
              "\n",
              "[5 rows x 20 columns]"
            ]
          },
          "metadata": {
            "tags": []
          },
          "execution_count": 19
        }
      ]
    },
    {
      "cell_type": "markdown",
      "metadata": {
        "id": "X6pLQSesFl2e",
        "colab_type": "text"
      },
      "source": [
        "One more thing: I noticed the Manner of death column has a problem with case so I dealt with it "
      ]
    },
    {
      "cell_type": "code",
      "metadata": {
        "id": "e0tbFgi5heLV",
        "colab_type": "code",
        "outputId": "24cb2aa1-7ad7-48a7-d2e9-d9232435c84d",
        "colab": {
          "base_uri": "https://localhost:8080/",
          "height": 34
        }
      },
      "source": [
        "death_from_drugs['MannerofDeath'].unique()"
      ],
      "execution_count": 20,
      "outputs": [
        {
          "output_type": "execute_result",
          "data": {
            "text/plain": [
              "array(['Accident', 'accident'], dtype=object)"
            ]
          },
          "metadata": {
            "tags": []
          },
          "execution_count": 20
        }
      ]
    },
    {
      "cell_type": "code",
      "metadata": {
        "id": "2uanof-GiRqM",
        "colab_type": "code",
        "colab": {}
      },
      "source": [
        "death_from_drugs['MannerofDeath'].replace(to_replace = 'accident', value = 'Accident', inplace = True)"
      ],
      "execution_count": 0,
      "outputs": []
    },
    {
      "cell_type": "markdown",
      "metadata": {
        "id": "DmnNCOnIF1Ju",
        "colab_type": "text"
      },
      "source": [
        "# **ANALYSIS AND INSIGHTS**"
      ]
    },
    {
      "cell_type": "markdown",
      "metadata": {
        "id": "ZO_NxtfAF5Gy",
        "colab_type": "text"
      },
      "source": [
        "First I defined a function to show me the death toll of each category"
      ]
    },
    {
      "cell_type": "code",
      "metadata": {
        "id": "PxyaRaUznFFe",
        "colab_type": "code",
        "colab": {}
      },
      "source": [
        "def to_deathtoll(group):\n",
        "  changed_field = group.rename(columns = {'Sex': 'Death toll'}, inplace = True)\n",
        "  return changed_field"
      ],
      "execution_count": 0,
      "outputs": []
    },
    {
      "cell_type": "markdown",
      "metadata": {
        "id": "DjkxGKGMGCcS",
        "colab_type": "text"
      },
      "source": [
        "### Deeath toll by Age group"
      ]
    },
    {
      "cell_type": "code",
      "metadata": {
        "id": "_f-5gXpBin5K",
        "colab_type": "code",
        "outputId": "99fa8a7e-21ec-4f6f-c04a-d5bf30484705",
        "colab": {
          "base_uri": "https://localhost:8080/",
          "height": 136
        }
      },
      "source": [
        "age_group = death_from_drugs.groupby('Age group', as_index = False)['Sex'].count()\n",
        "to_deathtoll(age_group)\n",
        "age_group = age_group.sort_values('Death toll', ascending = True)\n",
        "age_group"
      ],
      "execution_count": 23,
      "outputs": [
        {
          "output_type": "execute_result",
          "data": {
            "text/html": [
              "<div>\n",
              "<style scoped>\n",
              "    .dataframe tbody tr th:only-of-type {\n",
              "        vertical-align: middle;\n",
              "    }\n",
              "\n",
              "    .dataframe tbody tr th {\n",
              "        vertical-align: top;\n",
              "    }\n",
              "\n",
              "    .dataframe thead th {\n",
              "        text-align: right;\n",
              "    }\n",
              "</style>\n",
              "<table border=\"1\" class=\"dataframe\">\n",
              "  <thead>\n",
              "    <tr style=\"text-align: right;\">\n",
              "      <th></th>\n",
              "      <th>Age group</th>\n",
              "      <th>Death toll</th>\n",
              "    </tr>\n",
              "  </thead>\n",
              "  <tbody>\n",
              "    <tr>\n",
              "      <th>0</th>\n",
              "      <td>Minor</td>\n",
              "      <td>6</td>\n",
              "    </tr>\n",
              "    <tr>\n",
              "      <th>2</th>\n",
              "      <td>Senior</td>\n",
              "      <td>93</td>\n",
              "    </tr>\n",
              "    <tr>\n",
              "      <th>1</th>\n",
              "      <td>Adult</td>\n",
              "      <td>2716</td>\n",
              "    </tr>\n",
              "  </tbody>\n",
              "</table>\n",
              "</div>"
            ],
            "text/plain": [
              "  Age group  Death toll\n",
              "0     Minor           6\n",
              "2    Senior          93\n",
              "1     Adult        2716"
            ]
          },
          "metadata": {
            "tags": []
          },
          "execution_count": 23
        }
      ]
    },
    {
      "cell_type": "markdown",
      "metadata": {
        "id": "sJ7hq8kvGGmG",
        "colab_type": "text"
      },
      "source": [
        "From the above table, It is obvious that Adults between the ages of 18 and 65 had the highest death toll"
      ]
    },
    {
      "cell_type": "markdown",
      "metadata": {
        "id": "QyJ2TNs1GY-D",
        "colab_type": "text"
      },
      "source": [
        "### Death toll by Age group and race "
      ]
    },
    {
      "cell_type": "code",
      "metadata": {
        "id": "kxx7UwIphSsS",
        "colab_type": "code",
        "outputId": "7245e862-4090-4604-b043-2e910fa36f31",
        "colab": {
          "base_uri": "https://localhost:8080/",
          "height": 199
        }
      },
      "source": [
        "age_group_race = death_from_drugs.groupby(['Age group', 'Race'], as_index = False)['Sex'].count()\n",
        "to_deathtoll(age_group_race)\n",
        "age_group_race.replace(to_replace = np.nan, value = 'None', inplace = True)\n",
        "age_group_race\n",
        "\n",
        "agr_pivot = age_group_race.pivot(index = 'Age group', columns = 'Race', values = 'Death toll')\n",
        "agr_pivot"
      ],
      "execution_count": 24,
      "outputs": [
        {
          "output_type": "execute_result",
          "data": {
            "text/html": [
              "<div>\n",
              "<style scoped>\n",
              "    .dataframe tbody tr th:only-of-type {\n",
              "        vertical-align: middle;\n",
              "    }\n",
              "\n",
              "    .dataframe tbody tr th {\n",
              "        vertical-align: top;\n",
              "    }\n",
              "\n",
              "    .dataframe thead th {\n",
              "        text-align: right;\n",
              "    }\n",
              "</style>\n",
              "<table border=\"1\" class=\"dataframe\">\n",
              "  <thead>\n",
              "    <tr style=\"text-align: right;\">\n",
              "      <th>Race</th>\n",
              "      <th>Asian Indian</th>\n",
              "      <th>Asian, Other</th>\n",
              "      <th>Black</th>\n",
              "      <th>Chinese</th>\n",
              "      <th>Hawaiian</th>\n",
              "      <th>Hispanic, Black</th>\n",
              "      <th>Hispanic, White</th>\n",
              "      <th>Other</th>\n",
              "      <th>Unknown</th>\n",
              "      <th>White</th>\n",
              "    </tr>\n",
              "    <tr>\n",
              "      <th>Age group</th>\n",
              "      <th></th>\n",
              "      <th></th>\n",
              "      <th></th>\n",
              "      <th></th>\n",
              "      <th></th>\n",
              "      <th></th>\n",
              "      <th></th>\n",
              "      <th></th>\n",
              "      <th></th>\n",
              "      <th></th>\n",
              "    </tr>\n",
              "  </thead>\n",
              "  <tbody>\n",
              "    <tr>\n",
              "      <th>Minor</th>\n",
              "      <td>None</td>\n",
              "      <td>None</td>\n",
              "      <td>None</td>\n",
              "      <td>None</td>\n",
              "      <td>None</td>\n",
              "      <td>None</td>\n",
              "      <td>1</td>\n",
              "      <td>None</td>\n",
              "      <td>None</td>\n",
              "      <td>5</td>\n",
              "    </tr>\n",
              "    <tr>\n",
              "      <th>Adult</th>\n",
              "      <td>13</td>\n",
              "      <td>11</td>\n",
              "      <td>244</td>\n",
              "      <td>1</td>\n",
              "      <td>1</td>\n",
              "      <td>14</td>\n",
              "      <td>303</td>\n",
              "      <td>6</td>\n",
              "      <td>13</td>\n",
              "      <td>2110</td>\n",
              "    </tr>\n",
              "    <tr>\n",
              "      <th>Senior</th>\n",
              "      <td>None</td>\n",
              "      <td>None</td>\n",
              "      <td>17</td>\n",
              "      <td>None</td>\n",
              "      <td>None</td>\n",
              "      <td>2</td>\n",
              "      <td>10</td>\n",
              "      <td>None</td>\n",
              "      <td>None</td>\n",
              "      <td>64</td>\n",
              "    </tr>\n",
              "  </tbody>\n",
              "</table>\n",
              "</div>"
            ],
            "text/plain": [
              "Race      Asian Indian Asian, Other Black  ... Other Unknown White\n",
              "Age group                                  ...                    \n",
              "Minor             None         None  None  ...  None    None     5\n",
              "Adult               13           11   244  ...     6      13  2110\n",
              "Senior            None         None    17  ...  None    None    64\n",
              "\n",
              "[3 rows x 10 columns]"
            ]
          },
          "metadata": {
            "tags": []
          },
          "execution_count": 24
        }
      ]
    },
    {
      "cell_type": "markdown",
      "metadata": {
        "id": "TxZ_Re7iGeVB",
        "colab_type": "text"
      },
      "source": [
        "We can see how many people died in each category. The white adults have the highest death toll here "
      ]
    },
    {
      "cell_type": "markdown",
      "metadata": {
        "id": "gpXzEgYtGxTs",
        "colab_type": "text"
      },
      "source": [
        "### Death toll by race "
      ]
    },
    {
      "cell_type": "code",
      "metadata": {
        "id": "YClmkf2gkVbD",
        "colab_type": "code",
        "outputId": "c5aab8ac-37bf-43fa-f3cf-624dbc4bd459",
        "colab": {
          "base_uri": "https://localhost:8080/",
          "height": 343
        }
      },
      "source": [
        "race_grp = death_from_drugs.groupby('Race', as_index = False)[\"Sex\"].count()\n",
        "to_deathtoll(race_grp)\n",
        "race_grp = race_grp.sort_values('Death toll', ascending = True)\n",
        "race_grp"
      ],
      "execution_count": 25,
      "outputs": [
        {
          "output_type": "execute_result",
          "data": {
            "text/html": [
              "<div>\n",
              "<style scoped>\n",
              "    .dataframe tbody tr th:only-of-type {\n",
              "        vertical-align: middle;\n",
              "    }\n",
              "\n",
              "    .dataframe tbody tr th {\n",
              "        vertical-align: top;\n",
              "    }\n",
              "\n",
              "    .dataframe thead th {\n",
              "        text-align: right;\n",
              "    }\n",
              "</style>\n",
              "<table border=\"1\" class=\"dataframe\">\n",
              "  <thead>\n",
              "    <tr style=\"text-align: right;\">\n",
              "      <th></th>\n",
              "      <th>Race</th>\n",
              "      <th>Death toll</th>\n",
              "    </tr>\n",
              "  </thead>\n",
              "  <tbody>\n",
              "    <tr>\n",
              "      <th>3</th>\n",
              "      <td>Chinese</td>\n",
              "      <td>1</td>\n",
              "    </tr>\n",
              "    <tr>\n",
              "      <th>4</th>\n",
              "      <td>Hawaiian</td>\n",
              "      <td>1</td>\n",
              "    </tr>\n",
              "    <tr>\n",
              "      <th>7</th>\n",
              "      <td>Other</td>\n",
              "      <td>6</td>\n",
              "    </tr>\n",
              "    <tr>\n",
              "      <th>1</th>\n",
              "      <td>Asian, Other</td>\n",
              "      <td>11</td>\n",
              "    </tr>\n",
              "    <tr>\n",
              "      <th>0</th>\n",
              "      <td>Asian Indian</td>\n",
              "      <td>13</td>\n",
              "    </tr>\n",
              "    <tr>\n",
              "      <th>8</th>\n",
              "      <td>Unknown</td>\n",
              "      <td>13</td>\n",
              "    </tr>\n",
              "    <tr>\n",
              "      <th>5</th>\n",
              "      <td>Hispanic, Black</td>\n",
              "      <td>16</td>\n",
              "    </tr>\n",
              "    <tr>\n",
              "      <th>2</th>\n",
              "      <td>Black</td>\n",
              "      <td>261</td>\n",
              "    </tr>\n",
              "    <tr>\n",
              "      <th>6</th>\n",
              "      <td>Hispanic, White</td>\n",
              "      <td>314</td>\n",
              "    </tr>\n",
              "    <tr>\n",
              "      <th>9</th>\n",
              "      <td>White</td>\n",
              "      <td>2179</td>\n",
              "    </tr>\n",
              "  </tbody>\n",
              "</table>\n",
              "</div>"
            ],
            "text/plain": [
              "              Race  Death toll\n",
              "3          Chinese           1\n",
              "4         Hawaiian           1\n",
              "7            Other           6\n",
              "1     Asian, Other          11\n",
              "0     Asian Indian          13\n",
              "8          Unknown          13\n",
              "5  Hispanic, Black          16\n",
              "2            Black         261\n",
              "6  Hispanic, White         314\n",
              "9            White        2179"
            ]
          },
          "metadata": {
            "tags": []
          },
          "execution_count": 25
        }
      ]
    },
    {
      "cell_type": "markdown",
      "metadata": {
        "id": "GzSwupsHG1RW",
        "colab_type": "text"
      },
      "source": [
        "The whites have the highest death toll by race "
      ]
    },
    {
      "cell_type": "markdown",
      "metadata": {
        "id": "j1N6oS37G-yk",
        "colab_type": "text"
      },
      "source": [
        "Determining the City with the highest death toll"
      ]
    },
    {
      "cell_type": "code",
      "metadata": {
        "id": "1MvvL5Ehn2oO",
        "colab_type": "code",
        "outputId": "05d420c9-8ad8-4426-c007-356ff095e9cb",
        "colab": {
          "base_uri": "https://localhost:8080/",
          "height": 402
        }
      },
      "source": [
        "deathcity_grp = death_from_drugs.groupby('DeathCity', as_index = False)['Sex'].count()\n",
        "to_deathtoll(deathcity_grp)\n",
        "deathcity_grp.sort_values('Death toll', ascending = False)"
      ],
      "execution_count": 39,
      "outputs": [
        {
          "output_type": "execute_result",
          "data": {
            "text/html": [
              "<div>\n",
              "<style scoped>\n",
              "    .dataframe tbody tr th:only-of-type {\n",
              "        vertical-align: middle;\n",
              "    }\n",
              "\n",
              "    .dataframe tbody tr th {\n",
              "        vertical-align: top;\n",
              "    }\n",
              "\n",
              "    .dataframe thead th {\n",
              "        text-align: right;\n",
              "    }\n",
              "</style>\n",
              "<table border=\"1\" class=\"dataframe\">\n",
              "  <thead>\n",
              "    <tr style=\"text-align: right;\">\n",
              "      <th></th>\n",
              "      <th>DeathCity</th>\n",
              "      <th>Death toll</th>\n",
              "    </tr>\n",
              "  </thead>\n",
              "  <tbody>\n",
              "    <tr>\n",
              "      <th>69</th>\n",
              "      <td>HARTFORD</td>\n",
              "      <td>328</td>\n",
              "    </tr>\n",
              "    <tr>\n",
              "      <th>101</th>\n",
              "      <td>NEW HAVEN</td>\n",
              "      <td>199</td>\n",
              "    </tr>\n",
              "    <tr>\n",
              "      <th>15</th>\n",
              "      <td>BRIDGEPORT</td>\n",
              "      <td>199</td>\n",
              "    </tr>\n",
              "    <tr>\n",
              "      <th>171</th>\n",
              "      <td>WATERBURY</td>\n",
              "      <td>194</td>\n",
              "    </tr>\n",
              "    <tr>\n",
              "      <th>97</th>\n",
              "      <td>NEW BRITAIN</td>\n",
              "      <td>137</td>\n",
              "    </tr>\n",
              "    <tr>\n",
              "      <th>...</th>\n",
              "      <td>...</td>\n",
              "      <td>...</td>\n",
              "    </tr>\n",
              "    <tr>\n",
              "      <th>57</th>\n",
              "      <td>FRANKLIN</td>\n",
              "      <td>1</td>\n",
              "    </tr>\n",
              "    <tr>\n",
              "      <th>157</th>\n",
              "      <td>TAFTVILLE</td>\n",
              "      <td>1</td>\n",
              "    </tr>\n",
              "    <tr>\n",
              "      <th>158</th>\n",
              "      <td>TARIFFVILLE</td>\n",
              "      <td>1</td>\n",
              "    </tr>\n",
              "    <tr>\n",
              "      <th>161</th>\n",
              "      <td>THOMPSON</td>\n",
              "      <td>1</td>\n",
              "    </tr>\n",
              "    <tr>\n",
              "      <th>0</th>\n",
              "      <td>06340</td>\n",
              "      <td>1</td>\n",
              "    </tr>\n",
              "  </tbody>\n",
              "</table>\n",
              "<p>194 rows × 2 columns</p>\n",
              "</div>"
            ],
            "text/plain": [
              "       DeathCity  Death toll\n",
              "69      HARTFORD         328\n",
              "101    NEW HAVEN         199\n",
              "15    BRIDGEPORT         199\n",
              "171    WATERBURY         194\n",
              "97   NEW BRITAIN         137\n",
              "..           ...         ...\n",
              "57      FRANKLIN           1\n",
              "157    TAFTVILLE           1\n",
              "158  TARIFFVILLE           1\n",
              "161     THOMPSON           1\n",
              "0          06340           1\n",
              "\n",
              "[194 rows x 2 columns]"
            ]
          },
          "metadata": {
            "tags": []
          },
          "execution_count": 39
        }
      ]
    },
    {
      "cell_type": "markdown",
      "metadata": {
        "id": "xMZ1yDQ-HFh1",
        "colab_type": "text"
      },
      "source": [
        "Hartford has the highest death toll "
      ]
    },
    {
      "cell_type": "markdown",
      "metadata": {
        "id": "6-H3aQmVHQkW",
        "colab_type": "text"
      },
      "source": [
        "### Death toll by death location "
      ]
    },
    {
      "cell_type": "code",
      "metadata": {
        "id": "kImAYGf8py6e",
        "colab_type": "code",
        "outputId": "84755b16-5fdc-477b-bf9a-5f150fd079f1",
        "colab": {
          "base_uri": "https://localhost:8080/",
          "height": 195
        }
      },
      "source": [
        "location_grp = death_from_drugs.groupby('Location', as_index =  False)['Sex'].count()\n",
        "to_deathtoll(location_grp)\n",
        "location_grp = location_grp.sort_values('Death toll', ascending = False)\n",
        "location_grp"
      ],
      "execution_count": 38,
      "outputs": [
        {
          "output_type": "execute_result",
          "data": {
            "text/html": [
              "<div>\n",
              "<style scoped>\n",
              "    .dataframe tbody tr th:only-of-type {\n",
              "        vertical-align: middle;\n",
              "    }\n",
              "\n",
              "    .dataframe tbody tr th {\n",
              "        vertical-align: top;\n",
              "    }\n",
              "\n",
              "    .dataframe thead th {\n",
              "        text-align: right;\n",
              "    }\n",
              "</style>\n",
              "<table border=\"1\" class=\"dataframe\">\n",
              "  <thead>\n",
              "    <tr style=\"text-align: right;\">\n",
              "      <th></th>\n",
              "      <th>Location</th>\n",
              "      <th>Death toll</th>\n",
              "    </tr>\n",
              "  </thead>\n",
              "  <tbody>\n",
              "    <tr>\n",
              "      <th>4</th>\n",
              "      <td>Residence</td>\n",
              "      <td>1544</td>\n",
              "    </tr>\n",
              "    <tr>\n",
              "      <th>1</th>\n",
              "      <td>Hospital</td>\n",
              "      <td>877</td>\n",
              "    </tr>\n",
              "    <tr>\n",
              "      <th>3</th>\n",
              "      <td>Other</td>\n",
              "      <td>392</td>\n",
              "    </tr>\n",
              "    <tr>\n",
              "      <th>0</th>\n",
              "      <td>Hospice</td>\n",
              "      <td>1</td>\n",
              "    </tr>\n",
              "    <tr>\n",
              "      <th>2</th>\n",
              "      <td>Nursing Home</td>\n",
              "      <td>1</td>\n",
              "    </tr>\n",
              "  </tbody>\n",
              "</table>\n",
              "</div>"
            ],
            "text/plain": [
              "       Location  Death toll\n",
              "4     Residence        1544\n",
              "1      Hospital         877\n",
              "3         Other         392\n",
              "0       Hospice           1\n",
              "2  Nursing Home           1"
            ]
          },
          "metadata": {
            "tags": []
          },
          "execution_count": 38
        }
      ]
    },
    {
      "cell_type": "markdown",
      "metadata": {
        "id": "jTbc244EHUvX",
        "colab_type": "text"
      },
      "source": [
        "As we can see, more most people died in their residence "
      ]
    },
    {
      "cell_type": "markdown",
      "metadata": {
        "id": "CdG6GVSbHah1",
        "colab_type": "text"
      },
      "source": [
        "This analysis gives me more insight into the accidental death from drugs in the United States. I was able to deduce the race, gender, city and age group with the highest death tolls. "
      ]
    },
    {
      "cell_type": "markdown",
      "metadata": {
        "id": "_CxURyYxHuyh",
        "colab_type": "text"
      },
      "source": [
        "# **THANK YOU FOR VIEWING MY PROJECT!!!**"
      ]
    }
  ]
}